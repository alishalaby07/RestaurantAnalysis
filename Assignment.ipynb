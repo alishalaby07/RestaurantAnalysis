{
 "cells": [
  {
   "cell_type": "markdown",
   "metadata": {},
   "source": []
  },
  {
   "cell_type": "markdown",
   "metadata": {},
   "source": [
    "# PROJECT 1"
   ]
  },
  {
   "cell_type": "markdown",
   "metadata": {},
   "source": [
    "## Does a Relationship Exist Between Restaurant Density and Personal Income Per Capita?"
   ]
  },
  {
   "cell_type": "markdown",
   "metadata": {},
   "source": [
    "### 1. Introduction\n",
    "It is no question that fast food restaurants make up a generous portion of the United States' GDP. Due to it's low production cost and great taste, fast food is sold at a low cost, further increasing it's vast popularity. According to specific assumptions made in microeconomics, fast food is an inferior good; meaning as an individual's income increases the rate of purchases that are made on fast food will deccrease. Restaurant density is the proportion of restaurants to population. This shows the concentration of restaurants in a given area. Also, burgers are reported to be the most common purchased fast food. Thus, I want to investigate the correlation between restaurant density(independant variable) and income per capita(outcome) in a given state. I will also investigate burger restaurant density(independant variable) in order to observe it's relationship with income per capita has with restaurant_density.\n",
    "\n",
    "The original fast food dataset was imported from Kaggle. Due to the absence of the variable income per capita, it is necesserry to import online datasets that contain population and per capita income. Additionally, using the Bureau of Economic Analysis database, I was able to import and eventually merge this dataframe to a new dataset consisting of all necessary variables to solve this question.\n",
    "\n",
    "NOTE: I originally wanted to investigate the correlation between restaurant density and income per capita in a given city instead of a state in order to have more datapoints; however, I ran in to difficulties. I will first outline my original process and show what happened, in order to prove that it was most feasible to group corresponding data frames by state instead.\n"
   ]
  },
  {
   "cell_type": "markdown",
   "metadata": {},
   "source": [
    "### 2. Import Packages"
   ]
  },
  {
   "cell_type": "code",
   "execution_count": 2,
   "metadata": {},
   "outputs": [],
   "source": [
    "import pandas as pd\n",
    "from matplotlib import pyplot as plt\n",
    "import numpy as np\n",
    "\n",
    "\n"
   ]
  },
  {
   "cell_type": "markdown",
   "metadata": {},
   "source": [
    "### 3. Import and Read in Datasets"
   ]
  },
  {
   "cell_type": "code",
   "execution_count": 3,
   "metadata": {},
   "outputs": [],
   "source": [
    "restaurants = pd.read_csv('Datasets/Datafiniti_Fast_Food_Restaurants_May19.csv')\n",
    "income = pd.read_csv('Datasets/county_income.csv')\n"
   ]
  },
  {
   "cell_type": "code",
   "execution_count": 4,
   "metadata": {},
   "outputs": [
    {
     "name": "stdout",
     "output_type": "stream",
     "text": [
      "(10000, 16)\n"
     ]
    },
    {
     "data": {
      "text/html": [
       "<div>\n",
       "<style scoped>\n",
       "    .dataframe tbody tr th:only-of-type {\n",
       "        vertical-align: middle;\n",
       "    }\n",
       "\n",
       "    .dataframe tbody tr th {\n",
       "        vertical-align: top;\n",
       "    }\n",
       "\n",
       "    .dataframe thead th {\n",
       "        text-align: right;\n",
       "    }\n",
       "</style>\n",
       "<table border=\"1\" class=\"dataframe\">\n",
       "  <thead>\n",
       "    <tr style=\"text-align: right;\">\n",
       "      <th></th>\n",
       "      <th>id</th>\n",
       "      <th>dateAdded</th>\n",
       "      <th>dateUpdated</th>\n",
       "      <th>address</th>\n",
       "      <th>categories</th>\n",
       "      <th>primaryCategories</th>\n",
       "      <th>city</th>\n",
       "      <th>country</th>\n",
       "      <th>keys</th>\n",
       "      <th>latitude</th>\n",
       "      <th>longitude</th>\n",
       "      <th>name</th>\n",
       "      <th>postalCode</th>\n",
       "      <th>province</th>\n",
       "      <th>sourceURLs</th>\n",
       "      <th>websites</th>\n",
       "    </tr>\n",
       "  </thead>\n",
       "  <tbody>\n",
       "    <tr>\n",
       "      <th>0</th>\n",
       "      <td>AWrSh_KgsVYjT2BJAzaH</td>\n",
       "      <td>2019-05-19T23:58:05Z</td>\n",
       "      <td>2019-05-19T23:58:05Z</td>\n",
       "      <td>2555 11th Avenue</td>\n",
       "      <td>Fast Food Restaurants,Hamburgers and Hot Dogs,Restaurants</td>\n",
       "      <td>Accommodation &amp; Food Services</td>\n",
       "      <td>Greeley</td>\n",
       "      <td>US</td>\n",
       "      <td>us/co/greeley/255511thavenue/554191587</td>\n",
       "      <td>40.39629</td>\n",
       "      <td>-104.69699</td>\n",
       "      <td>Carl's Jr.</td>\n",
       "      <td>80631</td>\n",
       "      <td>CO</td>\n",
       "      <td>https://www.yellowpages.com/greeley-co/mip/carls-jr-7001402</td>\n",
       "      <td>https://www.carlsjr.com/?utm_source=Yextandutm_medium=Visit%20Websiteandutm_campaign=Homepage</td>\n",
       "    </tr>\n",
       "    <tr>\n",
       "      <th>1</th>\n",
       "      <td>AWEKlA-LIxWefVJwxG9B</td>\n",
       "      <td>2018-01-18T18:30:23Z</td>\n",
       "      <td>2019-05-19T23:45:05Z</td>\n",
       "      <td>2513 Highway 6 And 50</td>\n",
       "      <td>Restaurant,Mexican Restaurants,Fast Food Restaurants,Restaurants</td>\n",
       "      <td>Accommodation &amp; Food Services</td>\n",
       "      <td>Grand Junction</td>\n",
       "      <td>US</td>\n",
       "      <td>us/co/grandjunction/2513highway6and50/1550891556</td>\n",
       "      <td>39.08135</td>\n",
       "      <td>-108.58689</td>\n",
       "      <td>Del Taco</td>\n",
       "      <td>81505</td>\n",
       "      <td>CO</td>\n",
       "      <td>http://www.citysearch.com/profile/772076870/grand_junction_co/del_taco.html,https://www.yellowpages.com/grand-junction-co/mip/del-taco-475739804,https://www.tripadvisor.com/Restaurant_Review-g3345...</td>\n",
       "      <td>http://www.deltaco.com</td>\n",
       "    </tr>\n",
       "    <tr>\n",
       "      <th>2</th>\n",
       "      <td>AWrSfAcYsVYjT2BJAzPt</td>\n",
       "      <td>2019-05-19T23:45:04Z</td>\n",
       "      <td>2019-05-19T23:45:04Z</td>\n",
       "      <td>1125 Patterson Road</td>\n",
       "      <td>Sandwich Shops,Fast Food Restaurants,Restaurants,Take Out Restaurants</td>\n",
       "      <td>Accommodation &amp; Food Services</td>\n",
       "      <td>Grand Junction</td>\n",
       "      <td>US</td>\n",
       "      <td>us/co/grandjunction/1125pattersonroad/-2137447852</td>\n",
       "      <td>39.09148</td>\n",
       "      <td>-108.55411</td>\n",
       "      <td>Which Wich</td>\n",
       "      <td>81506</td>\n",
       "      <td>CO</td>\n",
       "      <td>https://www.yellowpages.com/grand-junction-co/mip/which-wich-481453650</td>\n",
       "      <td>http://www.whichwich.com</td>\n",
       "    </tr>\n",
       "    <tr>\n",
       "      <th>3</th>\n",
       "      <td>AWrSa3NAQTFama1Xpkbz</td>\n",
       "      <td>2019-05-19T23:26:58Z</td>\n",
       "      <td>2019-05-19T23:26:58Z</td>\n",
       "      <td>3455 N Salida Court</td>\n",
       "      <td>Fast Food Restaurants,Mexican Restaurants,Restaurants,Take Out Restaurants</td>\n",
       "      <td>Accommodation &amp; Food Services</td>\n",
       "      <td>Aurora</td>\n",
       "      <td>US</td>\n",
       "      <td>us/co/aurora/3455nsalidacourt/1143321601</td>\n",
       "      <td>39.76369</td>\n",
       "      <td>-104.77671</td>\n",
       "      <td>Chipotle Mexican Grill</td>\n",
       "      <td>80011</td>\n",
       "      <td>CO</td>\n",
       "      <td>https://www.yellowpages.com/aurora-co/mip/chipotle-mexican-grill-537241840</td>\n",
       "      <td>http://www.chipotle.com</td>\n",
       "    </tr>\n",
       "    <tr>\n",
       "      <th>4</th>\n",
       "      <td>AWrSaVGzZ4Yw-wtdgcaB</td>\n",
       "      <td>2019-05-19T23:24:38Z</td>\n",
       "      <td>2019-05-19T23:24:38Z</td>\n",
       "      <td>5225 E Colfax Avenue</td>\n",
       "      <td>Fast Food Restaurants,Mexican Restaurants,Restaurants</td>\n",
       "      <td>Accommodation &amp; Food Services</td>\n",
       "      <td>Denver</td>\n",
       "      <td>US</td>\n",
       "      <td>us/co/denver/5225ecolfaxavenue/-864103396</td>\n",
       "      <td>39.74044</td>\n",
       "      <td>-104.92636</td>\n",
       "      <td>Taco Bell</td>\n",
       "      <td>80220</td>\n",
       "      <td>CO</td>\n",
       "      <td>https://www.yellowpages.com/denver-co/mip/taco-bell-459444587</td>\n",
       "      <td>https://locations.tacobell.com/co/denver/5225-e-colfax-ave.html?utm_source=yextandutm_campaign=yextpowerlistingsandutm_medium=referralandutm_term=004051andutm_content=website</td>\n",
       "    </tr>\n",
       "  </tbody>\n",
       "</table>\n",
       "</div>"
      ],
      "text/plain": [
       "                     id             dateAdded           dateUpdated  \\\n",
       "0  AWrSh_KgsVYjT2BJAzaH  2019-05-19T23:58:05Z  2019-05-19T23:58:05Z   \n",
       "1  AWEKlA-LIxWefVJwxG9B  2018-01-18T18:30:23Z  2019-05-19T23:45:05Z   \n",
       "2  AWrSfAcYsVYjT2BJAzPt  2019-05-19T23:45:04Z  2019-05-19T23:45:04Z   \n",
       "3  AWrSa3NAQTFama1Xpkbz  2019-05-19T23:26:58Z  2019-05-19T23:26:58Z   \n",
       "4  AWrSaVGzZ4Yw-wtdgcaB  2019-05-19T23:24:38Z  2019-05-19T23:24:38Z   \n",
       "\n",
       "                 address  \\\n",
       "0       2555 11th Avenue   \n",
       "1  2513 Highway 6 And 50   \n",
       "2    1125 Patterson Road   \n",
       "3    3455 N Salida Court   \n",
       "4   5225 E Colfax Avenue   \n",
       "\n",
       "                                                                   categories  \\\n",
       "0                   Fast Food Restaurants,Hamburgers and Hot Dogs,Restaurants   \n",
       "1            Restaurant,Mexican Restaurants,Fast Food Restaurants,Restaurants   \n",
       "2       Sandwich Shops,Fast Food Restaurants,Restaurants,Take Out Restaurants   \n",
       "3  Fast Food Restaurants,Mexican Restaurants,Restaurants,Take Out Restaurants   \n",
       "4                       Fast Food Restaurants,Mexican Restaurants,Restaurants   \n",
       "\n",
       "               primaryCategories            city country  \\\n",
       "0  Accommodation & Food Services         Greeley      US   \n",
       "1  Accommodation & Food Services  Grand Junction      US   \n",
       "2  Accommodation & Food Services  Grand Junction      US   \n",
       "3  Accommodation & Food Services          Aurora      US   \n",
       "4  Accommodation & Food Services          Denver      US   \n",
       "\n",
       "                                                keys  latitude  longitude  \\\n",
       "0             us/co/greeley/255511thavenue/554191587  40.39629 -104.69699   \n",
       "1   us/co/grandjunction/2513highway6and50/1550891556  39.08135 -108.58689   \n",
       "2  us/co/grandjunction/1125pattersonroad/-2137447852  39.09148 -108.55411   \n",
       "3           us/co/aurora/3455nsalidacourt/1143321601  39.76369 -104.77671   \n",
       "4          us/co/denver/5225ecolfaxavenue/-864103396  39.74044 -104.92636   \n",
       "\n",
       "                     name postalCode province  \\\n",
       "0              Carl's Jr.      80631       CO   \n",
       "1                Del Taco      81505       CO   \n",
       "2              Which Wich      81506       CO   \n",
       "3  Chipotle Mexican Grill      80011       CO   \n",
       "4               Taco Bell      80220       CO   \n",
       "\n",
       "                                                                                                                                                                                                sourceURLs  \\\n",
       "0                                                                                                                                              https://www.yellowpages.com/greeley-co/mip/carls-jr-7001402   \n",
       "1  http://www.citysearch.com/profile/772076870/grand_junction_co/del_taco.html,https://www.yellowpages.com/grand-junction-co/mip/del-taco-475739804,https://www.tripadvisor.com/Restaurant_Review-g3345...   \n",
       "2                                                                                                                                   https://www.yellowpages.com/grand-junction-co/mip/which-wich-481453650   \n",
       "3                                                                                                                               https://www.yellowpages.com/aurora-co/mip/chipotle-mexican-grill-537241840   \n",
       "4                                                                                                                                            https://www.yellowpages.com/denver-co/mip/taco-bell-459444587   \n",
       "\n",
       "                                                                                                                                                                         websites  \n",
       "0                                                                                   https://www.carlsjr.com/?utm_source=Yextandutm_medium=Visit%20Websiteandutm_campaign=Homepage  \n",
       "1                                                                                                                                                          http://www.deltaco.com  \n",
       "2                                                                                                                                                        http://www.whichwich.com  \n",
       "3                                                                                                                                                         http://www.chipotle.com  \n",
       "4  https://locations.tacobell.com/co/denver/5225-e-colfax-ave.html?utm_source=yextandutm_campaign=yextpowerlistingsandutm_medium=referralandutm_term=004051andutm_content=website  "
      ]
     },
     "execution_count": 4,
     "metadata": {},
     "output_type": "execute_result"
    }
   ],
   "source": [
    "print(restaurants.shape)\n",
    "pd.set_option(\"max_colwidth\",200)\n",
    "restaurants.head()"
   ]
  },
  {
   "cell_type": "code",
   "execution_count": 5,
   "metadata": {},
   "outputs": [
    {
     "name": "stdout",
     "output_type": "stream",
     "text": [
      "(9420, 5)\n"
     ]
    },
    {
     "data": {
      "text/html": [
       "<div>\n",
       "<style scoped>\n",
       "    .dataframe tbody tr th:only-of-type {\n",
       "        vertical-align: middle;\n",
       "    }\n",
       "\n",
       "    .dataframe tbody tr th {\n",
       "        vertical-align: top;\n",
       "    }\n",
       "\n",
       "    .dataframe thead th {\n",
       "        text-align: right;\n",
       "    }\n",
       "</style>\n",
       "<table border=\"1\" class=\"dataframe\">\n",
       "  <thead>\n",
       "    <tr style=\"text-align: right;\">\n",
       "      <th></th>\n",
       "      <th>GeoFips</th>\n",
       "      <th>GeoName</th>\n",
       "      <th>LineCode</th>\n",
       "      <th>Description</th>\n",
       "      <th>2019</th>\n",
       "    </tr>\n",
       "  </thead>\n",
       "  <tbody>\n",
       "    <tr>\n",
       "      <th>0</th>\n",
       "      <td>1001</td>\n",
       "      <td>Autauga, AL</td>\n",
       "      <td>1</td>\n",
       "      <td>Personal income (thousands of dollars)</td>\n",
       "      <td>2474364</td>\n",
       "    </tr>\n",
       "    <tr>\n",
       "      <th>1</th>\n",
       "      <td>1001</td>\n",
       "      <td>Autauga, AL</td>\n",
       "      <td>2</td>\n",
       "      <td>Population (persons) 1/</td>\n",
       "      <td>55769</td>\n",
       "    </tr>\n",
       "    <tr>\n",
       "      <th>2</th>\n",
       "      <td>1001</td>\n",
       "      <td>Autauga, AL</td>\n",
       "      <td>3</td>\n",
       "      <td>Per capita personal income (dollars) 2/</td>\n",
       "      <td>44368</td>\n",
       "    </tr>\n",
       "    <tr>\n",
       "      <th>3</th>\n",
       "      <td>1003</td>\n",
       "      <td>Baldwin, AL</td>\n",
       "      <td>1</td>\n",
       "      <td>Personal income (thousands of dollars)</td>\n",
       "      <td>10791564</td>\n",
       "    </tr>\n",
       "    <tr>\n",
       "      <th>4</th>\n",
       "      <td>1003</td>\n",
       "      <td>Baldwin, AL</td>\n",
       "      <td>2</td>\n",
       "      <td>Population (persons) 1/</td>\n",
       "      <td>223565</td>\n",
       "    </tr>\n",
       "  </tbody>\n",
       "</table>\n",
       "</div>"
      ],
      "text/plain": [
       "   GeoFips      GeoName  LineCode                              Description  \\\n",
       "0     1001  Autauga, AL         1   Personal income (thousands of dollars)   \n",
       "1     1001  Autauga, AL         2                  Population (persons) 1/   \n",
       "2     1001  Autauga, AL         3  Per capita personal income (dollars) 2/   \n",
       "3     1003  Baldwin, AL         1   Personal income (thousands of dollars)   \n",
       "4     1003  Baldwin, AL         2                  Population (persons) 1/   \n",
       "\n",
       "       2019  \n",
       "0   2474364  \n",
       "1     55769  \n",
       "2     44368  \n",
       "3  10791564  \n",
       "4    223565  "
      ]
     },
     "execution_count": 5,
     "metadata": {},
     "output_type": "execute_result"
    }
   ],
   "source": [
    "print(income.shape)\n",
    "income.head()"
   ]
  },
  {
   "cell_type": "markdown",
   "metadata": {},
   "source": [
    "It is evident that some of the data must be cleaned in our income dataframe. Firstly, it is evident that the values of the 'Description' variables should be columns and the newly added columns will take values corresponding to the '2019' column."
   ]
  },
  {
   "cell_type": "code",
   "execution_count": 6,
   "metadata": {},
   "outputs": [
    {
     "data": {
      "text/html": [
       "<div>\n",
       "<style scoped>\n",
       "    .dataframe tbody tr th:only-of-type {\n",
       "        vertical-align: middle;\n",
       "    }\n",
       "\n",
       "    .dataframe tbody tr th {\n",
       "        vertical-align: top;\n",
       "    }\n",
       "\n",
       "    .dataframe thead th {\n",
       "        text-align: right;\n",
       "    }\n",
       "</style>\n",
       "<table border=\"1\" class=\"dataframe\">\n",
       "  <thead>\n",
       "    <tr style=\"text-align: right;\">\n",
       "      <th>Description</th>\n",
       "      <th>GeoName</th>\n",
       "      <th>Per capita personal income (dollars) 2/</th>\n",
       "      <th>Personal income (thousands of dollars)</th>\n",
       "      <th>Population (persons) 1/</th>\n",
       "    </tr>\n",
       "  </thead>\n",
       "  <tbody>\n",
       "    <tr>\n",
       "      <th>0</th>\n",
       "      <td>Abbeville, SC</td>\n",
       "      <td>35065</td>\n",
       "      <td>862034</td>\n",
       "      <td>24584</td>\n",
       "    </tr>\n",
       "    <tr>\n",
       "      <th>1</th>\n",
       "      <td>Acadia, LA</td>\n",
       "      <td>37337</td>\n",
       "      <td>2322653</td>\n",
       "      <td>62207</td>\n",
       "    </tr>\n",
       "    <tr>\n",
       "      <th>2</th>\n",
       "      <td>Accomack, VA</td>\n",
       "      <td>49695</td>\n",
       "      <td>1606389</td>\n",
       "      <td>32325</td>\n",
       "    </tr>\n",
       "    <tr>\n",
       "      <th>3</th>\n",
       "      <td>Ada, ID</td>\n",
       "      <td>54506</td>\n",
       "      <td>26265476</td>\n",
       "      <td>481880</td>\n",
       "    </tr>\n",
       "    <tr>\n",
       "      <th>4</th>\n",
       "      <td>Adair, IA</td>\n",
       "      <td>51911</td>\n",
       "      <td>368672</td>\n",
       "      <td>7102</td>\n",
       "    </tr>\n",
       "  </tbody>\n",
       "</table>\n",
       "</div>"
      ],
      "text/plain": [
       "Description        GeoName Per capita personal income (dollars) 2/  \\\n",
       "0            Abbeville, SC                                   35065   \n",
       "1               Acadia, LA                                   37337   \n",
       "2             Accomack, VA                                   49695   \n",
       "3                  Ada, ID                                   54506   \n",
       "4                Adair, IA                                   51911   \n",
       "\n",
       "Description Personal income (thousands of dollars) Population (persons) 1/  \n",
       "0                                           862034                   24584  \n",
       "1                                          2322653                   62207  \n",
       "2                                          1606389                   32325  \n",
       "3                                         26265476                  481880  \n",
       "4                                           368672                    7102  "
      ]
     },
     "execution_count": 6,
     "metadata": {},
     "output_type": "execute_result"
    }
   ],
   "source": [
    "income = income.pivot(values='2019', index='GeoName', columns='Description').reset_index()\n",
    "income.head()"
   ]
  },
  {
   "cell_type": "markdown",
   "metadata": {},
   "source": [
    "Now, I want to find the number of restaurants grouped by each city and create a new data frame that contains values of a given city in the United states and the number of restaurants that city contains."
   ]
  },
  {
   "cell_type": "code",
   "execution_count": 7,
   "metadata": {},
   "outputs": [
    {
     "data": {
      "text/html": [
       "<div>\n",
       "<style scoped>\n",
       "    .dataframe tbody tr th:only-of-type {\n",
       "        vertical-align: middle;\n",
       "    }\n",
       "\n",
       "    .dataframe tbody tr th {\n",
       "        vertical-align: top;\n",
       "    }\n",
       "\n",
       "    .dataframe thead th {\n",
       "        text-align: right;\n",
       "    }\n",
       "</style>\n",
       "<table border=\"1\" class=\"dataframe\">\n",
       "  <thead>\n",
       "    <tr style=\"text-align: right;\">\n",
       "      <th></th>\n",
       "      <th>GeoName</th>\n",
       "      <th>num_restaurants</th>\n",
       "    </tr>\n",
       "  </thead>\n",
       "  <tbody>\n",
       "    <tr>\n",
       "      <th>0</th>\n",
       "      <td>Abbeville, AL</td>\n",
       "      <td>2</td>\n",
       "    </tr>\n",
       "    <tr>\n",
       "      <th>1</th>\n",
       "      <td>Abbeville, SC</td>\n",
       "      <td>1</td>\n",
       "    </tr>\n",
       "    <tr>\n",
       "      <th>2</th>\n",
       "      <td>Aberdeen, MD</td>\n",
       "      <td>1</td>\n",
       "    </tr>\n",
       "    <tr>\n",
       "      <th>3</th>\n",
       "      <td>Aberdeen, NC</td>\n",
       "      <td>1</td>\n",
       "    </tr>\n",
       "    <tr>\n",
       "      <th>4</th>\n",
       "      <td>Aberdeen, WA</td>\n",
       "      <td>3</td>\n",
       "    </tr>\n",
       "    <tr>\n",
       "      <th>...</th>\n",
       "      <td>...</td>\n",
       "      <td>...</td>\n",
       "    </tr>\n",
       "    <tr>\n",
       "      <th>3412</th>\n",
       "      <td>Zanesville, OH</td>\n",
       "      <td>6</td>\n",
       "    </tr>\n",
       "    <tr>\n",
       "      <th>3413</th>\n",
       "      <td>Zebulon, GA</td>\n",
       "      <td>1</td>\n",
       "    </tr>\n",
       "    <tr>\n",
       "      <th>3414</th>\n",
       "      <td>Zelienople, PA</td>\n",
       "      <td>1</td>\n",
       "    </tr>\n",
       "    <tr>\n",
       "      <th>3415</th>\n",
       "      <td>Zephyrhills, FL</td>\n",
       "      <td>1</td>\n",
       "    </tr>\n",
       "    <tr>\n",
       "      <th>3416</th>\n",
       "      <td>Zion, IL</td>\n",
       "      <td>1</td>\n",
       "    </tr>\n",
       "  </tbody>\n",
       "</table>\n",
       "<p>3417 rows × 2 columns</p>\n",
       "</div>"
      ],
      "text/plain": [
       "              GeoName  num_restaurants\n",
       "0       Abbeville, AL                2\n",
       "1       Abbeville, SC                1\n",
       "2        Aberdeen, MD                1\n",
       "3        Aberdeen, NC                1\n",
       "4        Aberdeen, WA                3\n",
       "...               ...              ...\n",
       "3412   Zanesville, OH                6\n",
       "3413      Zebulon, GA                1\n",
       "3414   Zelienople, PA                1\n",
       "3415  Zephyrhills, FL                1\n",
       "3416         Zion, IL                1\n",
       "\n",
       "[3417 rows x 2 columns]"
      ]
     },
     "execution_count": 7,
     "metadata": {},
     "output_type": "execute_result"
    }
   ],
   "source": [
    "rest_count = restaurants.groupby(['city', 'province']).size().reset_index() \n",
    "rest_count['GeoName'] = rest_count['city'] + \", \" + rest_count['province']\n",
    "rest_count = rest_count.rename({0: 'num_restaurants'}, axis = 1)\n",
    "rest_count = rest_count[['GeoName', 'num_restaurants']]\n",
    "rest_count\n",
    "\n"
   ]
  },
  {
   "cell_type": "markdown",
   "metadata": {},
   "source": [
    "Finally, I can merge the income dataframe and the rest_count data frame. Notice once I merge, I lose alot of data as there are now only 284 rows. This means that the income database and the original dataset('restaurants') only have 284 common cities. Due to the loss of data, it is unfeasible to work with an even smaller sample size. Therefore, I grouped by state instead of city.  "
   ]
  },
  {
   "cell_type": "code",
   "execution_count": 8,
   "metadata": {},
   "outputs": [
    {
     "data": {
      "text/html": [
       "<div>\n",
       "<style scoped>\n",
       "    .dataframe tbody tr th:only-of-type {\n",
       "        vertical-align: middle;\n",
       "    }\n",
       "\n",
       "    .dataframe tbody tr th {\n",
       "        vertical-align: top;\n",
       "    }\n",
       "\n",
       "    .dataframe thead th {\n",
       "        text-align: right;\n",
       "    }\n",
       "</style>\n",
       "<table border=\"1\" class=\"dataframe\">\n",
       "  <thead>\n",
       "    <tr style=\"text-align: right;\">\n",
       "      <th></th>\n",
       "      <th>GeoName</th>\n",
       "      <th>Per capita personal income (dollars) 2/</th>\n",
       "      <th>Personal income (thousands of dollars)</th>\n",
       "      <th>Population (persons) 1/</th>\n",
       "      <th>num_restaurants</th>\n",
       "    </tr>\n",
       "  </thead>\n",
       "  <tbody>\n",
       "    <tr>\n",
       "      <th>0</th>\n",
       "      <td>Abbeville, SC</td>\n",
       "      <td>35065</td>\n",
       "      <td>862034</td>\n",
       "      <td>24584</td>\n",
       "      <td>1</td>\n",
       "    </tr>\n",
       "    <tr>\n",
       "      <th>1</th>\n",
       "      <td>Aiken, SC</td>\n",
       "      <td>44503</td>\n",
       "      <td>7623405</td>\n",
       "      <td>171300</td>\n",
       "      <td>4</td>\n",
       "    </tr>\n",
       "    <tr>\n",
       "      <th>2</th>\n",
       "      <td>Aitkin, MN</td>\n",
       "      <td>41614</td>\n",
       "      <td>659213</td>\n",
       "      <td>15841</td>\n",
       "      <td>1</td>\n",
       "    </tr>\n",
       "    <tr>\n",
       "      <th>3</th>\n",
       "      <td>Alameda, CA</td>\n",
       "      <td>78839</td>\n",
       "      <td>131535494</td>\n",
       "      <td>1668412</td>\n",
       "      <td>3</td>\n",
       "    </tr>\n",
       "    <tr>\n",
       "      <th>4</th>\n",
       "      <td>Alamosa, CO</td>\n",
       "      <td>38403</td>\n",
       "      <td>622131</td>\n",
       "      <td>16200</td>\n",
       "      <td>1</td>\n",
       "    </tr>\n",
       "    <tr>\n",
       "      <th>...</th>\n",
       "      <td>...</td>\n",
       "      <td>...</td>\n",
       "      <td>...</td>\n",
       "      <td>...</td>\n",
       "      <td>...</td>\n",
       "    </tr>\n",
       "    <tr>\n",
       "      <th>279</th>\n",
       "      <td>Winnebago, IL</td>\n",
       "      <td>43972</td>\n",
       "      <td>12420505</td>\n",
       "      <td>282465</td>\n",
       "      <td>1</td>\n",
       "    </tr>\n",
       "    <tr>\n",
       "      <th>280</th>\n",
       "      <td>Yakima, WA</td>\n",
       "      <td>43910</td>\n",
       "      <td>11045587</td>\n",
       "      <td>251552</td>\n",
       "      <td>11</td>\n",
       "    </tr>\n",
       "    <tr>\n",
       "      <th>281</th>\n",
       "      <td>Yankton, SD</td>\n",
       "      <td>51910</td>\n",
       "      <td>1185459</td>\n",
       "      <td>22837</td>\n",
       "      <td>1</td>\n",
       "    </tr>\n",
       "    <tr>\n",
       "      <th>282</th>\n",
       "      <td>York, NE</td>\n",
       "      <td>50703</td>\n",
       "      <td>690164</td>\n",
       "      <td>13612</td>\n",
       "      <td>1</td>\n",
       "    </tr>\n",
       "    <tr>\n",
       "      <th>283</th>\n",
       "      <td>York, PA</td>\n",
       "      <td>52015</td>\n",
       "      <td>23372369</td>\n",
       "      <td>449341</td>\n",
       "      <td>8</td>\n",
       "    </tr>\n",
       "  </tbody>\n",
       "</table>\n",
       "<p>284 rows × 5 columns</p>\n",
       "</div>"
      ],
      "text/plain": [
       "           GeoName Per capita personal income (dollars) 2/  \\\n",
       "0    Abbeville, SC                                   35065   \n",
       "1        Aiken, SC                                   44503   \n",
       "2       Aitkin, MN                                   41614   \n",
       "3      Alameda, CA                                   78839   \n",
       "4      Alamosa, CO                                   38403   \n",
       "..             ...                                     ...   \n",
       "279  Winnebago, IL                                   43972   \n",
       "280     Yakima, WA                                   43910   \n",
       "281    Yankton, SD                                   51910   \n",
       "282       York, NE                                   50703   \n",
       "283       York, PA                                   52015   \n",
       "\n",
       "    Personal income (thousands of dollars) Population (persons) 1/  \\\n",
       "0                                   862034                   24584   \n",
       "1                                  7623405                  171300   \n",
       "2                                   659213                   15841   \n",
       "3                                131535494                 1668412   \n",
       "4                                   622131                   16200   \n",
       "..                                     ...                     ...   \n",
       "279                               12420505                  282465   \n",
       "280                               11045587                  251552   \n",
       "281                                1185459                   22837   \n",
       "282                                 690164                   13612   \n",
       "283                               23372369                  449341   \n",
       "\n",
       "     num_restaurants  \n",
       "0                  1  \n",
       "1                  4  \n",
       "2                  1  \n",
       "3                  3  \n",
       "4                  1  \n",
       "..               ...  \n",
       "279                1  \n",
       "280               11  \n",
       "281                1  \n",
       "282                1  \n",
       "283                8  \n",
       "\n",
       "[284 rows x 5 columns]"
      ]
     },
     "execution_count": 8,
     "metadata": {},
     "output_type": "execute_result"
    }
   ],
   "source": [
    "Rest_city = pd.merge(income, rest_count, on=\"GeoName\")\n",
    "Rest_city "
   ]
  },
  {
   "cell_type": "markdown",
   "metadata": {},
   "source": [
    "The Bureau of Econbomic Analysis Database allowed me to import the same dataset grouped by state instead of city. I import the files and organize/clean the data using similar methods with the previous dataframe. "
   ]
  },
  {
   "cell_type": "code",
   "execution_count": 9,
   "metadata": {},
   "outputs": [
    {
     "name": "stdout",
     "output_type": "stream",
     "text": [
      "(51, 4)\n"
     ]
    },
    {
     "name": "stderr",
     "output_type": "stream",
     "text": [
      "/var/folders/dl/pkdj8n7n6ps84w7d_v3vr0200000gn/T/ipykernel_35742/4290504551.py:2: FutureWarning: The default value of regex will change from True to False in a future version.\n",
      "  income_state[\"State\"] = income_state.GeoName.str.replace(\" \\*\", \"\")\n"
     ]
    },
    {
     "data": {
      "text/html": [
       "<div>\n",
       "<style scoped>\n",
       "    .dataframe tbody tr th:only-of-type {\n",
       "        vertical-align: middle;\n",
       "    }\n",
       "\n",
       "    .dataframe tbody tr th {\n",
       "        vertical-align: top;\n",
       "    }\n",
       "\n",
       "    .dataframe thead th {\n",
       "        text-align: right;\n",
       "    }\n",
       "</style>\n",
       "<table border=\"1\" class=\"dataframe\">\n",
       "  <thead>\n",
       "    <tr style=\"text-align: right;\">\n",
       "      <th>Description</th>\n",
       "      <th>Code</th>\n",
       "      <th>Disposable personal income (millions of dollars)</th>\n",
       "      <th>Per capita disposable personal income (dollars) 2/</th>\n",
       "      <th>Population (persons) 1/</th>\n",
       "    </tr>\n",
       "  </thead>\n",
       "  <tbody>\n",
       "    <tr>\n",
       "      <th>0</th>\n",
       "      <td>AK</td>\n",
       "      <td>41899.7</td>\n",
       "      <td>57115.0</td>\n",
       "      <td>733603.0</td>\n",
       "    </tr>\n",
       "    <tr>\n",
       "      <th>1</th>\n",
       "      <td>AL</td>\n",
       "      <td>196131.2</td>\n",
       "      <td>39962.0</td>\n",
       "      <td>4907965.0</td>\n",
       "    </tr>\n",
       "    <tr>\n",
       "      <th>2</th>\n",
       "      <td>AR</td>\n",
       "      <td>122878.1</td>\n",
       "      <td>40675.0</td>\n",
       "      <td>3020985.0</td>\n",
       "    </tr>\n",
       "    <tr>\n",
       "      <th>3</th>\n",
       "      <td>AZ</td>\n",
       "      <td>300174.7</td>\n",
       "      <td>41166.0</td>\n",
       "      <td>7291843.0</td>\n",
       "    </tr>\n",
       "    <tr>\n",
       "      <th>4</th>\n",
       "      <td>CA</td>\n",
       "      <td>2172607.7</td>\n",
       "      <td>55090.0</td>\n",
       "      <td>39437610.0</td>\n",
       "    </tr>\n",
       "  </tbody>\n",
       "</table>\n",
       "</div>"
      ],
      "text/plain": [
       "Description Code  Disposable personal income (millions of dollars)  \\\n",
       "0             AK                                           41899.7   \n",
       "1             AL                                          196131.2   \n",
       "2             AR                                          122878.1   \n",
       "3             AZ                                          300174.7   \n",
       "4             CA                                         2172607.7   \n",
       "\n",
       "Description  Per capita disposable personal income (dollars) 2/  \\\n",
       "0                                                       57115.0   \n",
       "1                                                       39962.0   \n",
       "2                                                       40675.0   \n",
       "3                                                       41166.0   \n",
       "4                                                       55090.0   \n",
       "\n",
       "Description  Population (persons) 1/  \n",
       "0                           733603.0  \n",
       "1                          4907965.0  \n",
       "2                          3020985.0  \n",
       "3                          7291843.0  \n",
       "4                         39437610.0  "
      ]
     },
     "execution_count": 9,
     "metadata": {},
     "output_type": "execute_result"
    }
   ],
   "source": [
    "income_state = pd.read_csv(\"Datasets/income_state.csv\")\n",
    "income_state[\"State\"] = income_state.GeoName.str.replace(\" \\*\", \"\")\n",
    "state = pd.read_csv(\"Datasets/state_abbreviations.csv\")\n",
    "income_state = pd.merge(income_state, state, on='State')\n",
    "income_state = income_state.pivot(values='2019', index='Code', columns='Description').reset_index()\n",
    "print(income_state.shape)\n",
    "income_state.head()\n"
   ]
  },
  {
   "cell_type": "markdown",
   "metadata": {},
   "source": [
    "Now that I cleaned the dataframe grouped by state, I found the number of restaurants for each state. Then, I merged 'income_state' dataframe and the 'rest_count' dataframe which contains the number of restaurants in a given state. "
   ]
  },
  {
   "cell_type": "code",
   "execution_count": 10,
   "metadata": {},
   "outputs": [
    {
     "data": {
      "text/html": [
       "<div>\n",
       "<style scoped>\n",
       "    .dataframe tbody tr th:only-of-type {\n",
       "        vertical-align: middle;\n",
       "    }\n",
       "\n",
       "    .dataframe tbody tr th {\n",
       "        vertical-align: top;\n",
       "    }\n",
       "\n",
       "    .dataframe thead th {\n",
       "        text-align: right;\n",
       "    }\n",
       "</style>\n",
       "<table border=\"1\" class=\"dataframe\">\n",
       "  <thead>\n",
       "    <tr style=\"text-align: right;\">\n",
       "      <th></th>\n",
       "      <th>Code</th>\n",
       "      <th>Disposable personal income (millions of dollars)</th>\n",
       "      <th>Per capita disposable personal income (dollars) 2/</th>\n",
       "      <th>Population (persons) 1/</th>\n",
       "      <th>num_restaurants</th>\n",
       "    </tr>\n",
       "  </thead>\n",
       "  <tbody>\n",
       "    <tr>\n",
       "      <th>0</th>\n",
       "      <td>AK</td>\n",
       "      <td>41899.7</td>\n",
       "      <td>57115.0</td>\n",
       "      <td>733603.0</td>\n",
       "      <td>64.0</td>\n",
       "    </tr>\n",
       "    <tr>\n",
       "      <th>1</th>\n",
       "      <td>AL</td>\n",
       "      <td>196131.2</td>\n",
       "      <td>39962.0</td>\n",
       "      <td>4907965.0</td>\n",
       "      <td>635.0</td>\n",
       "    </tr>\n",
       "    <tr>\n",
       "      <th>2</th>\n",
       "      <td>AR</td>\n",
       "      <td>122878.1</td>\n",
       "      <td>40675.0</td>\n",
       "      <td>3020985.0</td>\n",
       "      <td>124.0</td>\n",
       "    </tr>\n",
       "    <tr>\n",
       "      <th>3</th>\n",
       "      <td>AZ</td>\n",
       "      <td>300174.7</td>\n",
       "      <td>41166.0</td>\n",
       "      <td>7291843.0</td>\n",
       "      <td>186.0</td>\n",
       "    </tr>\n",
       "    <tr>\n",
       "      <th>4</th>\n",
       "      <td>CA</td>\n",
       "      <td>2172607.7</td>\n",
       "      <td>55090.0</td>\n",
       "      <td>39437610.0</td>\n",
       "      <td>727.0</td>\n",
       "    </tr>\n",
       "  </tbody>\n",
       "</table>\n",
       "</div>"
      ],
      "text/plain": [
       "  Code  Disposable personal income (millions of dollars)  \\\n",
       "0   AK                                           41899.7   \n",
       "1   AL                                          196131.2   \n",
       "2   AR                                          122878.1   \n",
       "3   AZ                                          300174.7   \n",
       "4   CA                                         2172607.7   \n",
       "\n",
       "   Per capita disposable personal income (dollars) 2/  \\\n",
       "0                                             57115.0   \n",
       "1                                             39962.0   \n",
       "2                                             40675.0   \n",
       "3                                             41166.0   \n",
       "4                                             55090.0   \n",
       "\n",
       "   Population (persons) 1/  num_restaurants  \n",
       "0                 733603.0             64.0  \n",
       "1                4907965.0            635.0  \n",
       "2                3020985.0            124.0  \n",
       "3                7291843.0            186.0  \n",
       "4               39437610.0            727.0  "
      ]
     },
     "execution_count": 10,
     "metadata": {},
     "output_type": "execute_result"
    }
   ],
   "source": [
    "rest_count = restaurants.groupby(['province']).size().reset_index() \n",
    "rest_count.columns = ['Code', 'num_restaurants']\n",
    "temp = pd.merge(income_state, rest_count, on='Code', how=\"outer\")\n",
    "temp.head()"
   ]
  },
  {
   "cell_type": "markdown",
   "metadata": {},
   "source": [
    "Furthermore, I have found the number of burger restaurants in a given state. I included this data in to the previous dataframe. additionally, I have mutated two columns, 'rest_burger_density' and 'restaurant_density'. I finally initialized my main dataframe as it contains all variables I need to perform data analysis, visualizations and predictions."
   ]
  },
  {
   "cell_type": "code",
   "execution_count": 11,
   "metadata": {},
   "outputs": [
    {
     "data": {
      "text/html": [
       "<div>\n",
       "<style scoped>\n",
       "    .dataframe tbody tr th:only-of-type {\n",
       "        vertical-align: middle;\n",
       "    }\n",
       "\n",
       "    .dataframe tbody tr th {\n",
       "        vertical-align: top;\n",
       "    }\n",
       "\n",
       "    .dataframe thead th {\n",
       "        text-align: right;\n",
       "    }\n",
       "</style>\n",
       "<table border=\"1\" class=\"dataframe\">\n",
       "  <thead>\n",
       "    <tr style=\"text-align: right;\">\n",
       "      <th></th>\n",
       "      <th>Code</th>\n",
       "      <th>Disposable personal income (millions of dollars)</th>\n",
       "      <th>Per capita disposable personal income (dollars) 2/</th>\n",
       "      <th>Population (persons) 1/</th>\n",
       "      <th>num_restaurants</th>\n",
       "      <th>num_burger_restaurants</th>\n",
       "      <th>restaurant_density</th>\n",
       "      <th>burger_rest_density</th>\n",
       "    </tr>\n",
       "  </thead>\n",
       "  <tbody>\n",
       "    <tr>\n",
       "      <th>0</th>\n",
       "      <td>AK</td>\n",
       "      <td>41899.7</td>\n",
       "      <td>57115.0</td>\n",
       "      <td>733603.0</td>\n",
       "      <td>64.0</td>\n",
       "      <td>14</td>\n",
       "      <td>0.000087</td>\n",
       "      <td>0.000019</td>\n",
       "    </tr>\n",
       "    <tr>\n",
       "      <th>1</th>\n",
       "      <td>AL</td>\n",
       "      <td>196131.2</td>\n",
       "      <td>39962.0</td>\n",
       "      <td>4907965.0</td>\n",
       "      <td>635.0</td>\n",
       "      <td>221</td>\n",
       "      <td>0.000129</td>\n",
       "      <td>0.000045</td>\n",
       "    </tr>\n",
       "    <tr>\n",
       "      <th>2</th>\n",
       "      <td>AR</td>\n",
       "      <td>122878.1</td>\n",
       "      <td>40675.0</td>\n",
       "      <td>3020985.0</td>\n",
       "      <td>124.0</td>\n",
       "      <td>49</td>\n",
       "      <td>0.000041</td>\n",
       "      <td>0.000016</td>\n",
       "    </tr>\n",
       "    <tr>\n",
       "      <th>3</th>\n",
       "      <td>AZ</td>\n",
       "      <td>300174.7</td>\n",
       "      <td>41166.0</td>\n",
       "      <td>7291843.0</td>\n",
       "      <td>186.0</td>\n",
       "      <td>81</td>\n",
       "      <td>0.000026</td>\n",
       "      <td>0.000011</td>\n",
       "    </tr>\n",
       "    <tr>\n",
       "      <th>4</th>\n",
       "      <td>CA</td>\n",
       "      <td>2172607.7</td>\n",
       "      <td>55090.0</td>\n",
       "      <td>39437610.0</td>\n",
       "      <td>727.0</td>\n",
       "      <td>237</td>\n",
       "      <td>0.000018</td>\n",
       "      <td>0.000006</td>\n",
       "    </tr>\n",
       "  </tbody>\n",
       "</table>\n",
       "</div>"
      ],
      "text/plain": [
       "  Code  Disposable personal income (millions of dollars)  \\\n",
       "0   AK                                           41899.7   \n",
       "1   AL                                          196131.2   \n",
       "2   AR                                          122878.1   \n",
       "3   AZ                                          300174.7   \n",
       "4   CA                                         2172607.7   \n",
       "\n",
       "   Per capita disposable personal income (dollars) 2/  \\\n",
       "0                                             57115.0   \n",
       "1                                             39962.0   \n",
       "2                                             40675.0   \n",
       "3                                             41166.0   \n",
       "4                                             55090.0   \n",
       "\n",
       "   Population (persons) 1/  num_restaurants  num_burger_restaurants  \\\n",
       "0                 733603.0             64.0                      14   \n",
       "1                4907965.0            635.0                     221   \n",
       "2                3020985.0            124.0                      49   \n",
       "3                7291843.0            186.0                      81   \n",
       "4               39437610.0            727.0                     237   \n",
       "\n",
       "   restaurant_density  burger_rest_density  \n",
       "0            0.000087             0.000019  \n",
       "1            0.000129             0.000045  \n",
       "2            0.000041             0.000016  \n",
       "3            0.000026             0.000011  \n",
       "4            0.000018             0.000006  "
      ]
     },
     "execution_count": 11,
     "metadata": {},
     "output_type": "execute_result"
    }
   ],
   "source": [
    "burger_restaurants = restaurants.loc[restaurants.categories.str.lower().str.contains(\"burger\")]\n",
    "burger_restaurants = burger_restaurants.groupby('province').size().reset_index()\n",
    "burger_restaurants.columns = ['Code', 'num_burger_restaurants']\n",
    "df_main = pd.merge(temp, burger_restaurants, on='Code')\n",
    "df_main['restaurant_density'] = df_main['num_restaurants'] / df_main['Population (persons) 1/']\n",
    "df_main['burger_rest_density'] = df_main['num_burger_restaurants'] / df_main['Population (persons) 1/']\n",
    "df_main.head()"
   ]
  },
  {
   "cell_type": "markdown",
   "metadata": {},
   "source": [
    "### 4. Summary Statistics\n",
    "\n",
    "Lets view the summary statistics on 'num_restaurants' and 'restaurant_density' in order to later analyze which one is a better predictor"
   ]
  },
  {
   "cell_type": "code",
   "execution_count": 12,
   "metadata": {},
   "outputs": [
    {
     "data": {
      "text/html": [
       "<div>\n",
       "<style scoped>\n",
       "    .dataframe tbody tr th:only-of-type {\n",
       "        vertical-align: middle;\n",
       "    }\n",
       "\n",
       "    .dataframe tbody tr th {\n",
       "        vertical-align: top;\n",
       "    }\n",
       "\n",
       "    .dataframe thead th {\n",
       "        text-align: right;\n",
       "    }\n",
       "</style>\n",
       "<table border=\"1\" class=\"dataframe\">\n",
       "  <thead>\n",
       "    <tr style=\"text-align: right;\">\n",
       "      <th></th>\n",
       "      <th>Per capita disposable personal income (dollars) 2/</th>\n",
       "      <th>restaurant_density</th>\n",
       "      <th>burger_rest_density</th>\n",
       "    </tr>\n",
       "  </thead>\n",
       "  <tbody>\n",
       "    <tr>\n",
       "      <th>count</th>\n",
       "      <td>46.000000</td>\n",
       "      <td>4.600000e+01</td>\n",
       "      <td>4.600000e+01</td>\n",
       "    </tr>\n",
       "    <tr>\n",
       "      <th>mean</th>\n",
       "      <td>47868.543478</td>\n",
       "      <td>3.774336e-05</td>\n",
       "      <td>1.223233e-05</td>\n",
       "    </tr>\n",
       "    <tr>\n",
       "      <th>std</th>\n",
       "      <td>6798.918328</td>\n",
       "      <td>2.522020e-05</td>\n",
       "      <td>7.367714e-06</td>\n",
       "    </tr>\n",
       "    <tr>\n",
       "      <th>min</th>\n",
       "      <td>36031.000000</td>\n",
       "      <td>2.249400e-07</td>\n",
       "      <td>1.124700e-07</td>\n",
       "    </tr>\n",
       "    <tr>\n",
       "      <th>25%</th>\n",
       "      <td>43585.750000</td>\n",
       "      <td>2.321761e-05</td>\n",
       "      <td>7.339480e-06</td>\n",
       "    </tr>\n",
       "    <tr>\n",
       "      <th>50%</th>\n",
       "      <td>46491.500000</td>\n",
       "      <td>3.230678e-05</td>\n",
       "      <td>1.121617e-05</td>\n",
       "    </tr>\n",
       "    <tr>\n",
       "      <th>75%</th>\n",
       "      <td>51511.750000</td>\n",
       "      <td>4.043670e-05</td>\n",
       "      <td>1.556070e-05</td>\n",
       "    </tr>\n",
       "    <tr>\n",
       "      <th>max</th>\n",
       "      <td>67854.000000</td>\n",
       "      <td>1.293815e-04</td>\n",
       "      <td>4.502885e-05</td>\n",
       "    </tr>\n",
       "  </tbody>\n",
       "</table>\n",
       "</div>"
      ],
      "text/plain": [
       "       Per capita disposable personal income (dollars) 2/  restaurant_density  \\\n",
       "count                                           46.000000        4.600000e+01   \n",
       "mean                                         47868.543478        3.774336e-05   \n",
       "std                                           6798.918328        2.522020e-05   \n",
       "min                                          36031.000000        2.249400e-07   \n",
       "25%                                          43585.750000        2.321761e-05   \n",
       "50%                                          46491.500000        3.230678e-05   \n",
       "75%                                          51511.750000        4.043670e-05   \n",
       "max                                          67854.000000        1.293815e-04   \n",
       "\n",
       "       burger_rest_density  \n",
       "count         4.600000e+01  \n",
       "mean          1.223233e-05  \n",
       "std           7.367714e-06  \n",
       "min           1.124700e-07  \n",
       "25%           7.339480e-06  \n",
       "50%           1.121617e-05  \n",
       "75%           1.556070e-05  \n",
       "max           4.502885e-05  "
      ]
     },
     "execution_count": 12,
     "metadata": {},
     "output_type": "execute_result"
    }
   ],
   "source": [
    "df_main[['Per capita disposable personal income (dollars) 2/', 'restaurant_density', 'burger_rest_density']].describe()"
   ]
  },
  {
   "cell_type": "markdown",
   "metadata": {},
   "source": [
    "### 5. Visualization"
   ]
  },
  {
   "cell_type": "markdown",
   "metadata": {},
   "source": []
  },
  {
   "cell_type": "code",
   "execution_count": 13,
   "metadata": {},
   "outputs": [
    {
     "data": {
      "text/plain": [
       "<AxesSubplot:xlabel='restaurant_density', ylabel='Per capita disposable personal income (dollars) 2/'>"
      ]
     },
     "execution_count": 13,
     "metadata": {},
     "output_type": "execute_result"
    },
    {
     "data": {
      "image/png": "[encoded data removed]",
      "text/plain": [
       "<Figure size 432x288 with 1 Axes>"
      ]
     },
     "metadata": {
      "needs_background": "light"
     },
     "output_type": "display_data"
    },
    {
     "data": {
      "image/png": "[encoded data removed]",
      "text/plain": [
       "<Figure size 432x288 with 1 Axes>"
      ]
     },
     "metadata": {
      "needs_background": "light"
     },
     "output_type": "display_data"
    }
   ],
   "source": [
    "df_main.plot.scatter(x='burger_rest_density', y='Per capita disposable personal income (dollars) 2/', c='DarkBlue')\n",
    "df_main.plot.scatter(x='restaurant_density', y='Per capita disposable personal income (dollars) 2/', c='DarkRed')\n"
   ]
  },
  {
   "cell_type": "code",
   "execution_count": 14,
   "metadata": {},
   "outputs": [
    {
     "data": {
      "text/plain": [
       "array([[<AxesSubplot:title={'center':'burger_rest_density'}>]],\n",
       "      dtype=object)"
      ]
     },
     "execution_count": 14,
     "metadata": {},
     "output_type": "execute_result"
    },
    {
     "data": {
      "image/png": "[encoded data removed]",
      "text/plain": [
       "<Figure size 432x288 with 1 Axes>"
      ]
     },
     "metadata": {
      "needs_background": "light"
     },
     "output_type": "display_data"
    },
    {
     "data": {
      "image/png": "[encoded data removed]",
      "text/plain": [
       "<Figure size 432x288 with 1 Axes>"
      ]
     },
     "metadata": {
      "needs_background": "light"
     },
     "output_type": "display_data"
    },
    {
     "data": {
      "image/png": "[encoded data removed]",
      "text/plain": [
       "<Figure size 432x288 with 1 Axes>"
      ]
     },
     "metadata": {
      "needs_background": "light"
     },
     "output_type": "display_data"
    }
   ],
   "source": [
    "df_main.hist(column='Per capita disposable personal income (dollars) 2/')\n",
    "df_main.hist(column = 'restaurant_density')\n",
    "df_main.hist(column= 'burger_rest_density')"
   ]
  },
  {
   "cell_type": "markdown",
   "metadata": {},
   "source": [
    "# PROJECT 2"
   ]
  },
  {
   "cell_type": "markdown",
   "metadata": {},
   "source": [
    "## 1. Updated Project 1"
   ]
  },
  {
   "cell_type": "markdown",
   "metadata": {},
   "source": [
    "### 1. Introduction\n",
    "It is no question that fast food restaurants make up a generous portion of the United States' GDP. Due to it's low production cost and great taste, fast food is sold at a low cost, further increasing it's vast popularity. According to specific assumptions made in microeconomics, fast food is an inferior good; meaning as an individual's income increases the rate of purchases that are made on fast food will deccrease. Restaurant density is the proportion of restaurants to population. This shows the concentration of restaurants in a given area. Also, burgers are reported to be the most common purchased fast food. Thus, I want to investigate the correlation between restaurant density(independant variable) and income per capita(outcome) in a given state. I will also investigate burger restaurant density(independant variable) in order to observe it's relationship with income per capita has with restaurant_density.\n",
    "\n",
    "The original fast food dataset was imported from Kaggle. Due to the absence of the variable income per capita, it is necesserry to import online datasets that contain population and per capita income. Additionally, using the Bureau of Economic Analysis database, I was able to import and eventually merge this dataframe to a new dataset consisting of all necessary variables to solve this question.\n",
    "\n",
    "NOTE: I originally wanted to investigate the correlation between restaurant density and income per capita in a given city instead of a state in order to have more datapoints; however, I ran in to difficulties. I will first outline my original process and show what happened, in order to prove that it was most feasible to group corresponding data frames by state instead."
   ]
  },
  {
   "cell_type": "markdown",
   "metadata": {},
   "source": [
    "### 2. Import Packages"
   ]
  },
  {
   "cell_type": "code",
   "execution_count": 15,
   "metadata": {},
   "outputs": [],
   "source": [
    "import pandas as pd\n",
    "from matplotlib import pyplot as plt\n",
    "import numpy as np\n",
    "import pylab as plt\n",
    "import matplotlib.colors as mplc\n",
    "import matplotlib.patches as patches\n",
    "\n"
   ]
  },
  {
   "cell_type": "markdown",
   "metadata": {},
   "source": [
    "### 3. Import and Read Datasets"
   ]
  },
  {
   "cell_type": "code",
   "execution_count": 16,
   "metadata": {},
   "outputs": [],
   "source": [
    "restaurants = pd.read_csv('Datasets/Datafiniti_Fast_Food_Restaurants_May19.csv')\n",
    "income_state = pd.read_csv(\"Datasets/income_state.csv\")\n",
    "state = pd.read_csv(\"Datasets/state_abbreviations.csv\")"
   ]
  },
  {
   "cell_type": "markdown",
   "metadata": {},
   "source": [
    "The 'restaurants' dataset shows over 10,000 restaurants in the United States, showing their names, location points (city, stat, longitude, latitude, postal code), id, date added to dataset, date updated, websites,and the food category."
   ]
  },
  {
   "cell_type": "code",
   "execution_count": 17,
   "metadata": {},
   "outputs": [
    {
     "name": "stdout",
     "output_type": "stream",
     "text": [
      "(10000, 16)\n"
     ]
    },
    {
     "data": {
      "text/html": [
       "<div>\n",
       "<style scoped>\n",
       "    .dataframe tbody tr th:only-of-type {\n",
       "        vertical-align: middle;\n",
       "    }\n",
       "\n",
       "    .dataframe tbody tr th {\n",
       "        vertical-align: top;\n",
       "    }\n",
       "\n",
       "    .dataframe thead th {\n",
       "        text-align: right;\n",
       "    }\n",
       "</style>\n",
       "<table border=\"1\" class=\"dataframe\">\n",
       "  <thead>\n",
       "    <tr style=\"text-align: right;\">\n",
       "      <th></th>\n",
       "      <th>id</th>\n",
       "      <th>dateAdded</th>\n",
       "      <th>dateUpdated</th>\n",
       "      <th>address</th>\n",
       "      <th>categories</th>\n",
       "      <th>primaryCategories</th>\n",
       "      <th>city</th>\n",
       "      <th>country</th>\n",
       "      <th>keys</th>\n",
       "      <th>latitude</th>\n",
       "      <th>longitude</th>\n",
       "      <th>name</th>\n",
       "      <th>postalCode</th>\n",
       "      <th>province</th>\n",
       "      <th>sourceURLs</th>\n",
       "      <th>websites</th>\n",
       "    </tr>\n",
       "  </thead>\n",
       "  <tbody>\n",
       "    <tr>\n",
       "      <th>0</th>\n",
       "      <td>AWrSh_KgsVYjT2BJAzaH</td>\n",
       "      <td>2019-05-19T23:58:05Z</td>\n",
       "      <td>2019-05-19T23:58:05Z</td>\n",
       "      <td>2555 11th Avenue</td>\n",
       "      <td>Fast Food Restaurants,Hamburgers and Hot Dogs,Restaurants</td>\n",
       "      <td>Accommodation &amp; Food Services</td>\n",
       "      <td>Greeley</td>\n",
       "      <td>US</td>\n",
       "      <td>us/co/greeley/255511thavenue/554191587</td>\n",
       "      <td>40.39629</td>\n",
       "      <td>-104.69699</td>\n",
       "      <td>Carl's Jr.</td>\n",
       "      <td>80631</td>\n",
       "      <td>CO</td>\n",
       "      <td>https://www.yellowpages.com/greeley-co/mip/carls-jr-7001402</td>\n",
       "      <td>https://www.carlsjr.com/?utm_source=Yextandutm_medium=Visit%20Websiteandutm_campaign=Homepage</td>\n",
       "    </tr>\n",
       "    <tr>\n",
       "      <th>1</th>\n",
       "      <td>AWEKlA-LIxWefVJwxG9B</td>\n",
       "      <td>2018-01-18T18:30:23Z</td>\n",
       "      <td>2019-05-19T23:45:05Z</td>\n",
       "      <td>2513 Highway 6 And 50</td>\n",
       "      <td>Restaurant,Mexican Restaurants,Fast Food Restaurants,Restaurants</td>\n",
       "      <td>Accommodation &amp; Food Services</td>\n",
       "      <td>Grand Junction</td>\n",
       "      <td>US</td>\n",
       "      <td>us/co/grandjunction/2513highway6and50/1550891556</td>\n",
       "      <td>39.08135</td>\n",
       "      <td>-108.58689</td>\n",
       "      <td>Del Taco</td>\n",
       "      <td>81505</td>\n",
       "      <td>CO</td>\n",
       "      <td>http://www.citysearch.com/profile/772076870/grand_junction_co/del_taco.html,https://www.yellowpages.com/grand-junction-co/mip/del-taco-475739804,https://www.tripadvisor.com/Restaurant_Review-g3345...</td>\n",
       "      <td>http://www.deltaco.com</td>\n",
       "    </tr>\n",
       "    <tr>\n",
       "      <th>2</th>\n",
       "      <td>AWrSfAcYsVYjT2BJAzPt</td>\n",
       "      <td>2019-05-19T23:45:04Z</td>\n",
       "      <td>2019-05-19T23:45:04Z</td>\n",
       "      <td>1125 Patterson Road</td>\n",
       "      <td>Sandwich Shops,Fast Food Restaurants,Restaurants,Take Out Restaurants</td>\n",
       "      <td>Accommodation &amp; Food Services</td>\n",
       "      <td>Grand Junction</td>\n",
       "      <td>US</td>\n",
       "      <td>us/co/grandjunction/1125pattersonroad/-2137447852</td>\n",
       "      <td>39.09148</td>\n",
       "      <td>-108.55411</td>\n",
       "      <td>Which Wich</td>\n",
       "      <td>81506</td>\n",
       "      <td>CO</td>\n",
       "      <td>https://www.yellowpages.com/grand-junction-co/mip/which-wich-481453650</td>\n",
       "      <td>http://www.whichwich.com</td>\n",
       "    </tr>\n",
       "    <tr>\n",
       "      <th>3</th>\n",
       "      <td>AWrSa3NAQTFama1Xpkbz</td>\n",
       "      <td>2019-05-19T23:26:58Z</td>\n",
       "      <td>2019-05-19T23:26:58Z</td>\n",
       "      <td>3455 N Salida Court</td>\n",
       "      <td>Fast Food Restaurants,Mexican Restaurants,Restaurants,Take Out Restaurants</td>\n",
       "      <td>Accommodation &amp; Food Services</td>\n",
       "      <td>Aurora</td>\n",
       "      <td>US</td>\n",
       "      <td>us/co/aurora/3455nsalidacourt/1143321601</td>\n",
       "      <td>39.76369</td>\n",
       "      <td>-104.77671</td>\n",
       "      <td>Chipotle Mexican Grill</td>\n",
       "      <td>80011</td>\n",
       "      <td>CO</td>\n",
       "      <td>https://www.yellowpages.com/aurora-co/mip/chipotle-mexican-grill-537241840</td>\n",
       "      <td>http://www.chipotle.com</td>\n",
       "    </tr>\n",
       "    <tr>\n",
       "      <th>4</th>\n",
       "      <td>AWrSaVGzZ4Yw-wtdgcaB</td>\n",
       "      <td>2019-05-19T23:24:38Z</td>\n",
       "      <td>2019-05-19T23:24:38Z</td>\n",
       "      <td>5225 E Colfax Avenue</td>\n",
       "      <td>Fast Food Restaurants,Mexican Restaurants,Restaurants</td>\n",
       "      <td>Accommodation &amp; Food Services</td>\n",
       "      <td>Denver</td>\n",
       "      <td>US</td>\n",
       "      <td>us/co/denver/5225ecolfaxavenue/-864103396</td>\n",
       "      <td>39.74044</td>\n",
       "      <td>-104.92636</td>\n",
       "      <td>Taco Bell</td>\n",
       "      <td>80220</td>\n",
       "      <td>CO</td>\n",
       "      <td>https://www.yellowpages.com/denver-co/mip/taco-bell-459444587</td>\n",
       "      <td>https://locations.tacobell.com/co/denver/5225-e-colfax-ave.html?utm_source=yextandutm_campaign=yextpowerlistingsandutm_medium=referralandutm_term=004051andutm_content=website</td>\n",
       "    </tr>\n",
       "  </tbody>\n",
       "</table>\n",
       "</div>"
      ],
      "text/plain": [
       "                     id             dateAdded           dateUpdated  \\\n",
       "0  AWrSh_KgsVYjT2BJAzaH  2019-05-19T23:58:05Z  2019-05-19T23:58:05Z   \n",
       "1  AWEKlA-LIxWefVJwxG9B  2018-01-18T18:30:23Z  2019-05-19T23:45:05Z   \n",
       "2  AWrSfAcYsVYjT2BJAzPt  2019-05-19T23:45:04Z  2019-05-19T23:45:04Z   \n",
       "3  AWrSa3NAQTFama1Xpkbz  2019-05-19T23:26:58Z  2019-05-19T23:26:58Z   \n",
       "4  AWrSaVGzZ4Yw-wtdgcaB  2019-05-19T23:24:38Z  2019-05-19T23:24:38Z   \n",
       "\n",
       "                 address  \\\n",
       "0       2555 11th Avenue   \n",
       "1  2513 Highway 6 And 50   \n",
       "2    1125 Patterson Road   \n",
       "3    3455 N Salida Court   \n",
       "4   5225 E Colfax Avenue   \n",
       "\n",
       "                                                                   categories  \\\n",
       "0                   Fast Food Restaurants,Hamburgers and Hot Dogs,Restaurants   \n",
       "1            Restaurant,Mexican Restaurants,Fast Food Restaurants,Restaurants   \n",
       "2       Sandwich Shops,Fast Food Restaurants,Restaurants,Take Out Restaurants   \n",
       "3  Fast Food Restaurants,Mexican Restaurants,Restaurants,Take Out Restaurants   \n",
       "4                       Fast Food Restaurants,Mexican Restaurants,Restaurants   \n",
       "\n",
       "               primaryCategories            city country  \\\n",
       "0  Accommodation & Food Services         Greeley      US   \n",
       "1  Accommodation & Food Services  Grand Junction      US   \n",
       "2  Accommodation & Food Services  Grand Junction      US   \n",
       "3  Accommodation & Food Services          Aurora      US   \n",
       "4  Accommodation & Food Services          Denver      US   \n",
       "\n",
       "                                                keys  latitude  longitude  \\\n",
       "0             us/co/greeley/255511thavenue/554191587  40.39629 -104.69699   \n",
       "1   us/co/grandjunction/2513highway6and50/1550891556  39.08135 -108.58689   \n",
       "2  us/co/grandjunction/1125pattersonroad/-2137447852  39.09148 -108.55411   \n",
       "3           us/co/aurora/3455nsalidacourt/1143321601  39.76369 -104.77671   \n",
       "4          us/co/denver/5225ecolfaxavenue/-864103396  39.74044 -104.92636   \n",
       "\n",
       "                     name postalCode province  \\\n",
       "0              Carl's Jr.      80631       CO   \n",
       "1                Del Taco      81505       CO   \n",
       "2              Which Wich      81506       CO   \n",
       "3  Chipotle Mexican Grill      80011       CO   \n",
       "4               Taco Bell      80220       CO   \n",
       "\n",
       "                                                                                                                                                                                                sourceURLs  \\\n",
       "0                                                                                                                                              https://www.yellowpages.com/greeley-co/mip/carls-jr-7001402   \n",
       "1  http://www.citysearch.com/profile/772076870/grand_junction_co/del_taco.html,https://www.yellowpages.com/grand-junction-co/mip/del-taco-475739804,https://www.tripadvisor.com/Restaurant_Review-g3345...   \n",
       "2                                                                                                                                   https://www.yellowpages.com/grand-junction-co/mip/which-wich-481453650   \n",
       "3                                                                                                                               https://www.yellowpages.com/aurora-co/mip/chipotle-mexican-grill-537241840   \n",
       "4                                                                                                                                            https://www.yellowpages.com/denver-co/mip/taco-bell-459444587   \n",
       "\n",
       "                                                                                                                                                                         websites  \n",
       "0                                                                                   https://www.carlsjr.com/?utm_source=Yextandutm_medium=Visit%20Websiteandutm_campaign=Homepage  \n",
       "1                                                                                                                                                          http://www.deltaco.com  \n",
       "2                                                                                                                                                        http://www.whichwich.com  \n",
       "3                                                                                                                                                         http://www.chipotle.com  \n",
       "4  https://locations.tacobell.com/co/denver/5225-e-colfax-ave.html?utm_source=yextandutm_campaign=yextpowerlistingsandutm_medium=referralandutm_term=004051andutm_content=website  "
      ]
     },
     "execution_count": 17,
     "metadata": {},
     "output_type": "execute_result"
    }
   ],
   "source": [
    "print(restaurants.shape)\n",
    "pd.set_option(\"max_colwidth\",200)\n",
    "restaurants.head()"
   ]
  },
  {
   "cell_type": "markdown",
   "metadata": {},
   "source": [
    "This dataset shows the disposable income, population and disposable income per capita in each state in the year 2019"
   ]
  },
  {
   "cell_type": "code",
   "execution_count": 18,
   "metadata": {},
   "outputs": [
    {
     "name": "stdout",
     "output_type": "stream",
     "text": [
      "(180, 5)\n"
     ]
    },
    {
     "data": {
      "text/html": [
       "<div>\n",
       "<style scoped>\n",
       "    .dataframe tbody tr th:only-of-type {\n",
       "        vertical-align: middle;\n",
       "    }\n",
       "\n",
       "    .dataframe tbody tr th {\n",
       "        vertical-align: top;\n",
       "    }\n",
       "\n",
       "    .dataframe thead th {\n",
       "        text-align: right;\n",
       "    }\n",
       "</style>\n",
       "<table border=\"1\" class=\"dataframe\">\n",
       "  <thead>\n",
       "    <tr style=\"text-align: right;\">\n",
       "      <th></th>\n",
       "      <th>GeoFips</th>\n",
       "      <th>GeoName</th>\n",
       "      <th>LineCode</th>\n",
       "      <th>Description</th>\n",
       "      <th>2019</th>\n",
       "    </tr>\n",
       "  </thead>\n",
       "  <tbody>\n",
       "    <tr>\n",
       "      <th>0</th>\n",
       "      <td>0</td>\n",
       "      <td>United States *</td>\n",
       "      <td>51</td>\n",
       "      <td>Disposable personal income (millions of dollars)</td>\n",
       "      <td>16199181.0</td>\n",
       "    </tr>\n",
       "    <tr>\n",
       "      <th>1</th>\n",
       "      <td>0</td>\n",
       "      <td>United States *</td>\n",
       "      <td>52</td>\n",
       "      <td>Population (persons) 1/</td>\n",
       "      <td>328329953.0</td>\n",
       "    </tr>\n",
       "    <tr>\n",
       "      <th>2</th>\n",
       "      <td>0</td>\n",
       "      <td>United States *</td>\n",
       "      <td>53</td>\n",
       "      <td>Per capita disposable personal income (dollars) 2/</td>\n",
       "      <td>49338.0</td>\n",
       "    </tr>\n",
       "    <tr>\n",
       "      <th>3</th>\n",
       "      <td>1000</td>\n",
       "      <td>Alabama</td>\n",
       "      <td>51</td>\n",
       "      <td>Disposable personal income (millions of dollars)</td>\n",
       "      <td>196131.2</td>\n",
       "    </tr>\n",
       "    <tr>\n",
       "      <th>4</th>\n",
       "      <td>1000</td>\n",
       "      <td>Alabama</td>\n",
       "      <td>52</td>\n",
       "      <td>Population (persons) 1/</td>\n",
       "      <td>4907965.0</td>\n",
       "    </tr>\n",
       "  </tbody>\n",
       "</table>\n",
       "</div>"
      ],
      "text/plain": [
       "   GeoFips          GeoName  LineCode  \\\n",
       "0        0  United States *        51   \n",
       "1        0  United States *        52   \n",
       "2        0  United States *        53   \n",
       "3     1000          Alabama        51   \n",
       "4     1000          Alabama        52   \n",
       "\n",
       "                                          Description         2019  \n",
       "0    Disposable personal income (millions of dollars)   16199181.0  \n",
       "1                             Population (persons) 1/  328329953.0  \n",
       "2  Per capita disposable personal income (dollars) 2/      49338.0  \n",
       "3    Disposable personal income (millions of dollars)     196131.2  \n",
       "4                             Population (persons) 1/    4907965.0  "
      ]
     },
     "execution_count": 18,
     "metadata": {},
     "output_type": "execute_result"
    }
   ],
   "source": [
    "print(income_state.shape)\n",
    "income_state.head()"
   ]
  },
  {
   "cell_type": "markdown",
   "metadata": {},
   "source": [
    "This dataset lists the states in the United Statesm their abbreviation and code."
   ]
  },
  {
   "cell_type": "code",
   "execution_count": 19,
   "metadata": {},
   "outputs": [
    {
     "name": "stdout",
     "output_type": "stream",
     "text": [
      "(51, 3)\n"
     ]
    },
    {
     "data": {
      "text/html": [
       "<div>\n",
       "<style scoped>\n",
       "    .dataframe tbody tr th:only-of-type {\n",
       "        vertical-align: middle;\n",
       "    }\n",
       "\n",
       "    .dataframe tbody tr th {\n",
       "        vertical-align: top;\n",
       "    }\n",
       "\n",
       "    .dataframe thead th {\n",
       "        text-align: right;\n",
       "    }\n",
       "</style>\n",
       "<table border=\"1\" class=\"dataframe\">\n",
       "  <thead>\n",
       "    <tr style=\"text-align: right;\">\n",
       "      <th></th>\n",
       "      <th>State</th>\n",
       "      <th>Abbrev</th>\n",
       "      <th>Code</th>\n",
       "    </tr>\n",
       "  </thead>\n",
       "  <tbody>\n",
       "    <tr>\n",
       "      <th>0</th>\n",
       "      <td>Alabama</td>\n",
       "      <td>Ala.</td>\n",
       "      <td>AL</td>\n",
       "    </tr>\n",
       "    <tr>\n",
       "      <th>1</th>\n",
       "      <td>Alaska</td>\n",
       "      <td>Alaska</td>\n",
       "      <td>AK</td>\n",
       "    </tr>\n",
       "    <tr>\n",
       "      <th>2</th>\n",
       "      <td>Arizona</td>\n",
       "      <td>Ariz.</td>\n",
       "      <td>AZ</td>\n",
       "    </tr>\n",
       "    <tr>\n",
       "      <th>3</th>\n",
       "      <td>Arkansas</td>\n",
       "      <td>Ark.</td>\n",
       "      <td>AR</td>\n",
       "    </tr>\n",
       "    <tr>\n",
       "      <th>4</th>\n",
       "      <td>California</td>\n",
       "      <td>Calif.</td>\n",
       "      <td>CA</td>\n",
       "    </tr>\n",
       "  </tbody>\n",
       "</table>\n",
       "</div>"
      ],
      "text/plain": [
       "        State  Abbrev Code\n",
       "0     Alabama    Ala.   AL\n",
       "1      Alaska  Alaska   AK\n",
       "2     Arizona   Ariz.   AZ\n",
       "3    Arkansas    Ark.   AR\n",
       "4  California  Calif.   CA"
      ]
     },
     "execution_count": 19,
     "metadata": {},
     "output_type": "execute_result"
    }
   ],
   "source": [
    "print(state.shape)\n",
    "state.head()"
   ]
  },
  {
   "cell_type": "markdown",
   "metadata": {},
   "source": [
    "### 4. Data Cleaning"
   ]
  },
  {
   "cell_type": "markdown",
   "metadata": {},
   "source": [
    "I want to mege 'income_state' with 'state' on the column name 'state' in order to eventually merge with the columns used in 'restaruants'. However, before i merge, I must remove the '*' next to some state names in 'income_state'. Once this is done, I can merge with 'state'."
   ]
  },
  {
   "cell_type": "code",
   "execution_count": 20,
   "metadata": {},
   "outputs": [
    {
     "name": "stderr",
     "output_type": "stream",
     "text": [
      "/var/folders/dl/pkdj8n7n6ps84w7d_v3vr0200000gn/T/ipykernel_35742/2456924109.py:2: FutureWarning: The default value of regex will change from True to False in a future version.\n",
      "  income_state[\"State\"] = income_state.GeoName.str.replace(\" \\*\", \"\")\n"
     ]
    },
    {
     "data": {
      "text/html": [
       "<div>\n",
       "<style scoped>\n",
       "    .dataframe tbody tr th:only-of-type {\n",
       "        vertical-align: middle;\n",
       "    }\n",
       "\n",
       "    .dataframe tbody tr th {\n",
       "        vertical-align: top;\n",
       "    }\n",
       "\n",
       "    .dataframe thead th {\n",
       "        text-align: right;\n",
       "    }\n",
       "</style>\n",
       "<table border=\"1\" class=\"dataframe\">\n",
       "  <thead>\n",
       "    <tr style=\"text-align: right;\">\n",
       "      <th></th>\n",
       "      <th>GeoFips</th>\n",
       "      <th>GeoName</th>\n",
       "      <th>LineCode</th>\n",
       "      <th>Description</th>\n",
       "      <th>2019</th>\n",
       "      <th>State</th>\n",
       "      <th>Abbrev</th>\n",
       "      <th>Code</th>\n",
       "    </tr>\n",
       "  </thead>\n",
       "  <tbody>\n",
       "    <tr>\n",
       "      <th>0</th>\n",
       "      <td>1000</td>\n",
       "      <td>Alabama</td>\n",
       "      <td>51</td>\n",
       "      <td>Disposable personal income (millions of dollars)</td>\n",
       "      <td>196131.2</td>\n",
       "      <td>Alabama</td>\n",
       "      <td>Ala.</td>\n",
       "      <td>AL</td>\n",
       "    </tr>\n",
       "    <tr>\n",
       "      <th>1</th>\n",
       "      <td>1000</td>\n",
       "      <td>Alabama</td>\n",
       "      <td>52</td>\n",
       "      <td>Population (persons) 1/</td>\n",
       "      <td>4907965.0</td>\n",
       "      <td>Alabama</td>\n",
       "      <td>Ala.</td>\n",
       "      <td>AL</td>\n",
       "    </tr>\n",
       "    <tr>\n",
       "      <th>2</th>\n",
       "      <td>1000</td>\n",
       "      <td>Alabama</td>\n",
       "      <td>53</td>\n",
       "      <td>Per capita disposable personal income (dollars) 2/</td>\n",
       "      <td>39962.0</td>\n",
       "      <td>Alabama</td>\n",
       "      <td>Ala.</td>\n",
       "      <td>AL</td>\n",
       "    </tr>\n",
       "    <tr>\n",
       "      <th>3</th>\n",
       "      <td>2000</td>\n",
       "      <td>Alaska *</td>\n",
       "      <td>51</td>\n",
       "      <td>Disposable personal income (millions of dollars)</td>\n",
       "      <td>41899.7</td>\n",
       "      <td>Alaska</td>\n",
       "      <td>Alaska</td>\n",
       "      <td>AK</td>\n",
       "    </tr>\n",
       "    <tr>\n",
       "      <th>4</th>\n",
       "      <td>2000</td>\n",
       "      <td>Alaska *</td>\n",
       "      <td>52</td>\n",
       "      <td>Population (persons) 1/</td>\n",
       "      <td>733603.0</td>\n",
       "      <td>Alaska</td>\n",
       "      <td>Alaska</td>\n",
       "      <td>AK</td>\n",
       "    </tr>\n",
       "  </tbody>\n",
       "</table>\n",
       "</div>"
      ],
      "text/plain": [
       "   GeoFips   GeoName  LineCode  \\\n",
       "0     1000   Alabama        51   \n",
       "1     1000   Alabama        52   \n",
       "2     1000   Alabama        53   \n",
       "3     2000  Alaska *        51   \n",
       "4     2000  Alaska *        52   \n",
       "\n",
       "                                          Description       2019    State  \\\n",
       "0    Disposable personal income (millions of dollars)   196131.2  Alabama   \n",
       "1                             Population (persons) 1/  4907965.0  Alabama   \n",
       "2  Per capita disposable personal income (dollars) 2/    39962.0  Alabama   \n",
       "3    Disposable personal income (millions of dollars)    41899.7   Alaska   \n",
       "4                             Population (persons) 1/   733603.0   Alaska   \n",
       "\n",
       "   Abbrev Code  \n",
       "0    Ala.   AL  \n",
       "1    Ala.   AL  \n",
       "2    Ala.   AL  \n",
       "3  Alaska   AK  \n",
       "4  Alaska   AK  "
      ]
     },
     "execution_count": 20,
     "metadata": {},
     "output_type": "execute_result"
    }
   ],
   "source": [
    "income_state = pd.read_csv(\"Datasets/income_state.csv\")\n",
    "income_state[\"State\"] = income_state.GeoName.str.replace(\" \\*\", \"\")\n",
    "state = pd.read_csv(\"Datasets/state_abbreviations.csv\")\n",
    "income_state = pd.merge(income_state, state, on='State')\n",
    "income_state.head()"
   ]
  },
  {
   "cell_type": "markdown",
   "metadata": {},
   "source": [
    " When looking at the 'income_state'(Disposable income grouped by state) dataframe, it is evident that some of the data must be cleaned in our income dataframe. Firstly, it is evident that the values of the 'Description' variables should be columns and the newly added columns will take values corresponding to the '2019' column."
   ]
  },
  {
   "cell_type": "code",
   "execution_count": 21,
   "metadata": {},
   "outputs": [
    {
     "name": "stdout",
     "output_type": "stream",
     "text": [
      "(51, 4)\n"
     ]
    },
    {
     "data": {
      "text/html": [
       "<div>\n",
       "<style scoped>\n",
       "    .dataframe tbody tr th:only-of-type {\n",
       "        vertical-align: middle;\n",
       "    }\n",
       "\n",
       "    .dataframe tbody tr th {\n",
       "        vertical-align: top;\n",
       "    }\n",
       "\n",
       "    .dataframe thead th {\n",
       "        text-align: right;\n",
       "    }\n",
       "</style>\n",
       "<table border=\"1\" class=\"dataframe\">\n",
       "  <thead>\n",
       "    <tr style=\"text-align: right;\">\n",
       "      <th>Description</th>\n",
       "      <th>Code</th>\n",
       "      <th>Disposable personal income (millions of dollars)</th>\n",
       "      <th>Per capita disposable personal income (dollars) 2/</th>\n",
       "      <th>Population (persons) 1/</th>\n",
       "    </tr>\n",
       "  </thead>\n",
       "  <tbody>\n",
       "    <tr>\n",
       "      <th>0</th>\n",
       "      <td>AK</td>\n",
       "      <td>41899.7</td>\n",
       "      <td>57115.0</td>\n",
       "      <td>733603.0</td>\n",
       "    </tr>\n",
       "    <tr>\n",
       "      <th>1</th>\n",
       "      <td>AL</td>\n",
       "      <td>196131.2</td>\n",
       "      <td>39962.0</td>\n",
       "      <td>4907965.0</td>\n",
       "    </tr>\n",
       "    <tr>\n",
       "      <th>2</th>\n",
       "      <td>AR</td>\n",
       "      <td>122878.1</td>\n",
       "      <td>40675.0</td>\n",
       "      <td>3020985.0</td>\n",
       "    </tr>\n",
       "    <tr>\n",
       "      <th>3</th>\n",
       "      <td>AZ</td>\n",
       "      <td>300174.7</td>\n",
       "      <td>41166.0</td>\n",
       "      <td>7291843.0</td>\n",
       "    </tr>\n",
       "    <tr>\n",
       "      <th>4</th>\n",
       "      <td>CA</td>\n",
       "      <td>2172607.7</td>\n",
       "      <td>55090.0</td>\n",
       "      <td>39437610.0</td>\n",
       "    </tr>\n",
       "  </tbody>\n",
       "</table>\n",
       "</div>"
      ],
      "text/plain": [
       "Description Code  Disposable personal income (millions of dollars)  \\\n",
       "0             AK                                           41899.7   \n",
       "1             AL                                          196131.2   \n",
       "2             AR                                          122878.1   \n",
       "3             AZ                                          300174.7   \n",
       "4             CA                                         2172607.7   \n",
       "\n",
       "Description  Per capita disposable personal income (dollars) 2/  \\\n",
       "0                                                       57115.0   \n",
       "1                                                       39962.0   \n",
       "2                                                       40675.0   \n",
       "3                                                       41166.0   \n",
       "4                                                       55090.0   \n",
       "\n",
       "Description  Population (persons) 1/  \n",
       "0                           733603.0  \n",
       "1                          4907965.0  \n",
       "2                          3020985.0  \n",
       "3                          7291843.0  \n",
       "4                         39437610.0  "
      ]
     },
     "execution_count": 21,
     "metadata": {},
     "output_type": "execute_result"
    }
   ],
   "source": [
    "income_state = income_state.pivot(values='2019', index='Code', columns='Description').reset_index()\n",
    "print(income_state.shape)\n",
    "income_state.head()"
   ]
  },
  {
   "cell_type": "markdown",
   "metadata": {},
   "source": [
    "Now that I cleaned the dataframe grouped by state, I found the number of restaurants for each state. Then, I merged 'income_state' dataframe and the 'rest_count' dataframe which contains the number of restaurants in a given state. "
   ]
  },
  {
   "cell_type": "code",
   "execution_count": 66,
   "metadata": {},
   "outputs": [
    {
     "data": {
      "text/html": [
       "<div>\n",
       "<style scoped>\n",
       "    .dataframe tbody tr th:only-of-type {\n",
       "        vertical-align: middle;\n",
       "    }\n",
       "\n",
       "    .dataframe tbody tr th {\n",
       "        vertical-align: top;\n",
       "    }\n",
       "\n",
       "    .dataframe thead th {\n",
       "        text-align: right;\n",
       "    }\n",
       "</style>\n",
       "<table border=\"1\" class=\"dataframe\">\n",
       "  <thead>\n",
       "    <tr style=\"text-align: right;\">\n",
       "      <th></th>\n",
       "      <th>Code</th>\n",
       "      <th>Disposable personal income (millions of dollars)</th>\n",
       "      <th>Per capita disposable personal income (dollars) 2/</th>\n",
       "      <th>Population (persons) 1/</th>\n",
       "      <th>num_restaurants</th>\n",
       "    </tr>\n",
       "  </thead>\n",
       "  <tbody>\n",
       "    <tr>\n",
       "      <th>0</th>\n",
       "      <td>AK</td>\n",
       "      <td>41899.7</td>\n",
       "      <td>57115.0</td>\n",
       "      <td>733603.0</td>\n",
       "      <td>64.0</td>\n",
       "    </tr>\n",
       "    <tr>\n",
       "      <th>1</th>\n",
       "      <td>AL</td>\n",
       "      <td>196131.2</td>\n",
       "      <td>39962.0</td>\n",
       "      <td>4907965.0</td>\n",
       "      <td>635.0</td>\n",
       "    </tr>\n",
       "    <tr>\n",
       "      <th>2</th>\n",
       "      <td>AR</td>\n",
       "      <td>122878.1</td>\n",
       "      <td>40675.0</td>\n",
       "      <td>3020985.0</td>\n",
       "      <td>124.0</td>\n",
       "    </tr>\n",
       "    <tr>\n",
       "      <th>3</th>\n",
       "      <td>AZ</td>\n",
       "      <td>300174.7</td>\n",
       "      <td>41166.0</td>\n",
       "      <td>7291843.0</td>\n",
       "      <td>186.0</td>\n",
       "    </tr>\n",
       "    <tr>\n",
       "      <th>4</th>\n",
       "      <td>CA</td>\n",
       "      <td>2172607.7</td>\n",
       "      <td>55090.0</td>\n",
       "      <td>39437610.0</td>\n",
       "      <td>727.0</td>\n",
       "    </tr>\n",
       "  </tbody>\n",
       "</table>\n",
       "</div>"
      ],
      "text/plain": [
       "  Code  Disposable personal income (millions of dollars)  \\\n",
       "0   AK                                           41899.7   \n",
       "1   AL                                          196131.2   \n",
       "2   AR                                          122878.1   \n",
       "3   AZ                                          300174.7   \n",
       "4   CA                                         2172607.7   \n",
       "\n",
       "   Per capita disposable personal income (dollars) 2/  \\\n",
       "0                                             57115.0   \n",
       "1                                             39962.0   \n",
       "2                                             40675.0   \n",
       "3                                             41166.0   \n",
       "4                                             55090.0   \n",
       "\n",
       "   Population (persons) 1/  num_restaurants  \n",
       "0                 733603.0             64.0  \n",
       "1                4907965.0            635.0  \n",
       "2                3020985.0            124.0  \n",
       "3                7291843.0            186.0  \n",
       "4               39437610.0            727.0  "
      ]
     },
     "execution_count": 66,
     "metadata": {},
     "output_type": "execute_result"
    }
   ],
   "source": [
    "rest_count = restaurants.groupby(['province']).size().reset_index() \n",
    "rest_count.columns = ['Code', 'num_restaurants']\n",
    "temp = pd.merge(income_state, rest_count, on='Code', how=\"outer\")\n",
    "temp.head()"
   ]
  },
  {
   "cell_type": "markdown",
   "metadata": {},
   "source": [
    "Finally, I want to add columns that finds the restaurant and burger restaurant density for each state. To do this, I first found every restaurant in the 'restaurants' dataset that served burgers and copied all it's corresponding values into a new dataset called 'burger_restaurants'. Once grouped by province, I am ready to merge this with my 'temp' dataset. All that is left now is to find the restaurant density and burger restaurant density and then add them as new columns. The dataset 'df_main' is finally complete"
   ]
  },
  {
   "cell_type": "code",
   "execution_count": 72,
   "metadata": {},
   "outputs": [
    {
     "data": {
      "text/html": [
       "<div>\n",
       "<style scoped>\n",
       "    .dataframe tbody tr th:only-of-type {\n",
       "        vertical-align: middle;\n",
       "    }\n",
       "\n",
       "    .dataframe tbody tr th {\n",
       "        vertical-align: top;\n",
       "    }\n",
       "\n",
       "    .dataframe thead th {\n",
       "        text-align: right;\n",
       "    }\n",
       "</style>\n",
       "<table border=\"1\" class=\"dataframe\">\n",
       "  <thead>\n",
       "    <tr style=\"text-align: right;\">\n",
       "      <th></th>\n",
       "      <th>Code</th>\n",
       "      <th>Disposable personal income (millions of dollars)</th>\n",
       "      <th>Per capita disposable personal income (dollars) 2/</th>\n",
       "      <th>Population (persons) 1/</th>\n",
       "      <th>num_restaurants</th>\n",
       "      <th>num_burger_restaurants</th>\n",
       "      <th>restaurant_density</th>\n",
       "      <th>burger_rest_density</th>\n",
       "    </tr>\n",
       "  </thead>\n",
       "  <tbody>\n",
       "    <tr>\n",
       "      <th>0</th>\n",
       "      <td>AK</td>\n",
       "      <td>41899.7</td>\n",
       "      <td>57115.0</td>\n",
       "      <td>733603.0</td>\n",
       "      <td>64.0</td>\n",
       "      <td>14</td>\n",
       "      <td>0.000087</td>\n",
       "      <td>0.000019</td>\n",
       "    </tr>\n",
       "    <tr>\n",
       "      <th>1</th>\n",
       "      <td>AL</td>\n",
       "      <td>196131.2</td>\n",
       "      <td>39962.0</td>\n",
       "      <td>4907965.0</td>\n",
       "      <td>635.0</td>\n",
       "      <td>221</td>\n",
       "      <td>0.000129</td>\n",
       "      <td>0.000045</td>\n",
       "    </tr>\n",
       "    <tr>\n",
       "      <th>2</th>\n",
       "      <td>AR</td>\n",
       "      <td>122878.1</td>\n",
       "      <td>40675.0</td>\n",
       "      <td>3020985.0</td>\n",
       "      <td>124.0</td>\n",
       "      <td>49</td>\n",
       "      <td>0.000041</td>\n",
       "      <td>0.000016</td>\n",
       "    </tr>\n",
       "    <tr>\n",
       "      <th>3</th>\n",
       "      <td>AZ</td>\n",
       "      <td>300174.7</td>\n",
       "      <td>41166.0</td>\n",
       "      <td>7291843.0</td>\n",
       "      <td>186.0</td>\n",
       "      <td>81</td>\n",
       "      <td>0.000026</td>\n",
       "      <td>0.000011</td>\n",
       "    </tr>\n",
       "    <tr>\n",
       "      <th>4</th>\n",
       "      <td>CA</td>\n",
       "      <td>2172607.7</td>\n",
       "      <td>55090.0</td>\n",
       "      <td>39437610.0</td>\n",
       "      <td>727.0</td>\n",
       "      <td>237</td>\n",
       "      <td>0.000018</td>\n",
       "      <td>0.000006</td>\n",
       "    </tr>\n",
       "  </tbody>\n",
       "</table>\n",
       "</div>"
      ],
      "text/plain": [
       "  Code  Disposable personal income (millions of dollars)  \\\n",
       "0   AK                                           41899.7   \n",
       "1   AL                                          196131.2   \n",
       "2   AR                                          122878.1   \n",
       "3   AZ                                          300174.7   \n",
       "4   CA                                         2172607.7   \n",
       "\n",
       "   Per capita disposable personal income (dollars) 2/  \\\n",
       "0                                             57115.0   \n",
       "1                                             39962.0   \n",
       "2                                             40675.0   \n",
       "3                                             41166.0   \n",
       "4                                             55090.0   \n",
       "\n",
       "   Population (persons) 1/  num_restaurants  num_burger_restaurants  \\\n",
       "0                 733603.0             64.0                      14   \n",
       "1                4907965.0            635.0                     221   \n",
       "2                3020985.0            124.0                      49   \n",
       "3                7291843.0            186.0                      81   \n",
       "4               39437610.0            727.0                     237   \n",
       "\n",
       "   restaurant_density  burger_rest_density  \n",
       "0            0.000087             0.000019  \n",
       "1            0.000129             0.000045  \n",
       "2            0.000041             0.000016  \n",
       "3            0.000026             0.000011  \n",
       "4            0.000018             0.000006  "
      ]
     },
     "execution_count": 72,
     "metadata": {},
     "output_type": "execute_result"
    }
   ],
   "source": [
    "burger_restaurants = restaurants.loc[restaurants.categories.str.lower().str.contains(\"burger\")]\n",
    "burger_restaurants = burger_restaurants.groupby('province').size().reset_index()\n",
    "burger_restaurants.columns = ['Code', 'num_burger_restaurants']\n",
    "df_main = pd.merge(temp, burger_restaurants, on='Code')\n",
    "df_main['restaurant_density'] = df_main['num_restaurants'] / df_main['Population (persons) 1/']\n",
    "df_main['burger_rest_density'] = df_main['num_burger_restaurants'] / df_main['Population (persons) 1/']\n",
    "df_main.head()"
   ]
  },
  {
   "cell_type": "markdown",
   "metadata": {},
   "source": [
    "### 5. Summary Statistics"
   ]
  },
  {
   "cell_type": "markdown",
   "metadata": {},
   "source": [
    "Lets view the summary statistics on 'num_restaurants' and 'restaurant_density' in order to later analyze which one is a better predictor"
   ]
  },
  {
   "cell_type": "code",
   "execution_count": 24,
   "metadata": {},
   "outputs": [
    {
     "data": {
      "text/html": [
       "<div>\n",
       "<style scoped>\n",
       "    .dataframe tbody tr th:only-of-type {\n",
       "        vertical-align: middle;\n",
       "    }\n",
       "\n",
       "    .dataframe tbody tr th {\n",
       "        vertical-align: top;\n",
       "    }\n",
       "\n",
       "    .dataframe thead th {\n",
       "        text-align: right;\n",
       "    }\n",
       "</style>\n",
       "<table border=\"1\" class=\"dataframe\">\n",
       "  <thead>\n",
       "    <tr style=\"text-align: right;\">\n",
       "      <th></th>\n",
       "      <th>Per capita disposable personal income (dollars) 2/</th>\n",
       "      <th>restaurant_density</th>\n",
       "      <th>burger_rest_density</th>\n",
       "    </tr>\n",
       "  </thead>\n",
       "  <tbody>\n",
       "    <tr>\n",
       "      <th>count</th>\n",
       "      <td>46.000000</td>\n",
       "      <td>4.600000e+01</td>\n",
       "      <td>4.600000e+01</td>\n",
       "    </tr>\n",
       "    <tr>\n",
       "      <th>mean</th>\n",
       "      <td>47868.543478</td>\n",
       "      <td>3.774336e-05</td>\n",
       "      <td>1.223233e-05</td>\n",
       "    </tr>\n",
       "    <tr>\n",
       "      <th>std</th>\n",
       "      <td>6798.918328</td>\n",
       "      <td>2.522020e-05</td>\n",
       "      <td>7.367714e-06</td>\n",
       "    </tr>\n",
       "    <tr>\n",
       "      <th>min</th>\n",
       "      <td>36031.000000</td>\n",
       "      <td>2.249400e-07</td>\n",
       "      <td>1.124700e-07</td>\n",
       "    </tr>\n",
       "    <tr>\n",
       "      <th>25%</th>\n",
       "      <td>43585.750000</td>\n",
       "      <td>2.321761e-05</td>\n",
       "      <td>7.339480e-06</td>\n",
       "    </tr>\n",
       "    <tr>\n",
       "      <th>50%</th>\n",
       "      <td>46491.500000</td>\n",
       "      <td>3.230678e-05</td>\n",
       "      <td>1.121617e-05</td>\n",
       "    </tr>\n",
       "    <tr>\n",
       "      <th>75%</th>\n",
       "      <td>51511.750000</td>\n",
       "      <td>4.043670e-05</td>\n",
       "      <td>1.556070e-05</td>\n",
       "    </tr>\n",
       "    <tr>\n",
       "      <th>max</th>\n",
       "      <td>67854.000000</td>\n",
       "      <td>1.293815e-04</td>\n",
       "      <td>4.502885e-05</td>\n",
       "    </tr>\n",
       "  </tbody>\n",
       "</table>\n",
       "</div>"
      ],
      "text/plain": [
       "       Per capita disposable personal income (dollars) 2/  restaurant_density  \\\n",
       "count                                           46.000000        4.600000e+01   \n",
       "mean                                         47868.543478        3.774336e-05   \n",
       "std                                           6798.918328        2.522020e-05   \n",
       "min                                          36031.000000        2.249400e-07   \n",
       "25%                                          43585.750000        2.321761e-05   \n",
       "50%                                          46491.500000        3.230678e-05   \n",
       "75%                                          51511.750000        4.043670e-05   \n",
       "max                                          67854.000000        1.293815e-04   \n",
       "\n",
       "       burger_rest_density  \n",
       "count         4.600000e+01  \n",
       "mean          1.223233e-05  \n",
       "std           7.367714e-06  \n",
       "min           1.124700e-07  \n",
       "25%           7.339480e-06  \n",
       "50%           1.121617e-05  \n",
       "75%           1.556070e-05  \n",
       "max           4.502885e-05  "
      ]
     },
     "execution_count": 24,
     "metadata": {},
     "output_type": "execute_result"
    }
   ],
   "source": [
    "df_main[['Per capita disposable personal income (dollars) 2/', 'restaurant_density', 'burger_rest_density']].describe()"
   ]
  },
  {
   "cell_type": "markdown",
   "metadata": {},
   "source": [
    "### 6. Visualization"
   ]
  },
  {
   "cell_type": "code",
   "execution_count": 25,
   "metadata": {},
   "outputs": [
    {
     "data": {
      "text/plain": [
       "Text(0, 0.5, 'Disposable Income Per Capita')"
      ]
     },
     "execution_count": 25,
     "metadata": {},
     "output_type": "execute_result"
    },
    {
     "data": {
      "image/png": "[encoded data removed]",
      "text/plain": [
       "<Figure size 432x288 with 1 Axes>"
      ]
     },
     "metadata": {
      "needs_background": "light"
     },
     "output_type": "display_data"
    },
    {
     "data": {
      "image/png": "[encoded data removed]",
      "text/plain": [
       "<Figure size 432x288 with 1 Axes>"
      ]
     },
     "metadata": {
      "needs_background": "light"
     },
     "output_type": "display_data"
    }
   ],
   "source": [
    "df_main.plot.scatter(x='burger_rest_density', y='Per capita disposable personal income (dollars) 2/', c='DarkBlue')\n",
    "plt.title('Correlation of Disposable Income Per Capita and Burger Restauraunt Density')\n",
    "plt.xlabel('Burger Restauraunt Density')\n",
    "plt.ylabel('Disposable Income Per Capita')\n",
    "\n",
    "df_main.plot.scatter(x='restaurant_density', y='Per capita disposable personal income (dollars) 2/', c='DarkRed')\n",
    "plt.title('Correlation of Disposable Income Per Capita and Restauraunt Density')\n",
    "plt.xlabel('Restauraunt Density')\n",
    "plt.ylabel('Disposable Income Per Capita')"
   ]
  },
  {
   "cell_type": "code",
   "execution_count": 26,
   "metadata": {},
   "outputs": [
    {
     "data": {
      "text/plain": [
       "Text(0, 0.5, 'Count')"
      ]
     },
     "execution_count": 26,
     "metadata": {},
     "output_type": "execute_result"
    },
    {
     "data": {
      "image/png": "[encoded data removed]",
      "text/plain": [
       "<Figure size 432x288 with 1 Axes>"
      ]
     },
     "metadata": {
      "needs_background": "light"
     },
     "output_type": "display_data"
    },
    {
     "data": {
      "image/png": "[encoded data removed]",
      "text/plain": [
       "<Figure size 432x288 with 1 Axes>"
      ]
     },
     "metadata": {
      "needs_background": "light"
     },
     "output_type": "display_data"
    },
    {
     "data": {
      "image/png": "[encoded data removed]",
      "text/plain": [
       "<Figure size 432x288 with 1 Axes>"
      ]
     },
     "metadata": {
      "needs_background": "light"
     },
     "output_type": "display_data"
    }
   ],
   "source": [
    "df_main.hist(column='Per capita disposable personal income (dollars) 2/')\n",
    "plt.title('Frequency of Disposable Personal Income Per Capita Grouped By State')\n",
    "plt.xlabel('Disposable Income Per Capita')\n",
    "plt.ylabel('Count')\n",
    "\n",
    "df_main.hist(column = 'restaurant_density')\n",
    "plt.title('Frequency of Restaurant Density Grouped By State')\n",
    "plt.xlabel('Restaurant Density')\n",
    "plt.ylabel('Count')\n",
    "\n",
    "df_main.hist(column= 'burger_rest_density')\n",
    "plt.title('Frequency of Burger Restaurant Density Grouped By State')\n",
    "plt.xlabel('Burger Restaurant Density')\n",
    "plt.ylabel('Count')"
   ]
  },
  {
   "cell_type": "markdown",
   "metadata": {},
   "source": [
    "### 7. Conclusion\n",
    "\n",
    "After doing some data cleaning, I was able to extracract relevant data to answer my question. In fact, after plotting the scatter plot between restaurant density and personal disposable income per capita, there is evidence of a somewhat strong negative correlation between the two variables. This means that as disposable income per capita increases, the concentration of restaurants in a given area decreases. Because of this relatively strong relationship, it will be interesting to further explore and analyze the data and make some economic intuition out of future conclusions made. For example, because fast foods are known to be inferior goods, this may explain why the concentration of fast food restaurants are lower in high income areas.  Similarly, we can also explore burger restaurant density as it seems to have an even stronger correlation with disposable income per capita."
   ]
  },
  {
   "cell_type": "markdown",
   "metadata": {},
   "source": [
    "## 2. The Message: \n",
    "### Does Disposable Income per Capita Determine the Desnity of Fast Food Restaurants in a State?\n",
    "\n",
    "At the beginning of the paper, I wanted to see if there was a correlation between restaurant density and disposable income per capita. After analyzing the data, it was evident that the data contained categories that included a wide genre of food. Therefore I chose to specifically explore the correlation between the density of restaurants that sell burgers and personal income per capita. After observing the negative correlation between income and bureger restaurant density, this follows economic intuition. Burgers are inferior goods, meaning as income rises less of that good will be purchased. Therefore, in states where income is high, less people will buy fast food, meaning the fast food service sector will contribute less to GDP, meaning less fast food restaurants will open in that area because demand is relativelt lower. \n"
   ]
  },
  {
   "cell_type": "markdown",
   "metadata": {},
   "source": [
    "## 3. Control Group"
   ]
  },
  {
   "cell_type": "markdown",
   "metadata": {},
   "source": [
    "It is evident that we see a relatively negative correlation between burger restaurant density and disposable income per capita. This means that as disposable income per capita increases in a given state, there will be a smaller density of burger restaurants within that state. In order to further test the accuracy of this relationship, I will introduce a control group represented as 'cafe_density' and present the relationship to disposable income per capita. If my hypothesis holds, because products served at cafe's are not inferior goods, the correlation should be relatively weaker. \n",
    "In the code below, I searched under the 'categories' variable in the 'restaurants' dataset and searched for all values corresponding to a category containing the word coffee. I then grouped values by province and stored data in 'cafe'. Once I merged this new table with our old main dataframe, ('df_main') I calculated the coffee density"
   ]
  },
  {
   "cell_type": "code",
   "execution_count": 95,
   "metadata": {},
   "outputs": [
    {
     "data": {
      "text/html": [
       "<div>\n",
       "<style scoped>\n",
       "    .dataframe tbody tr th:only-of-type {\n",
       "        vertical-align: middle;\n",
       "    }\n",
       "\n",
       "    .dataframe tbody tr th {\n",
       "        vertical-align: top;\n",
       "    }\n",
       "\n",
       "    .dataframe thead th {\n",
       "        text-align: right;\n",
       "    }\n",
       "</style>\n",
       "<table border=\"1\" class=\"dataframe\">\n",
       "  <thead>\n",
       "    <tr style=\"text-align: right;\">\n",
       "      <th></th>\n",
       "      <th>Code</th>\n",
       "      <th>Disposable personal income (millions of dollars)</th>\n",
       "      <th>Per capita disposable personal income (dollars) 2/</th>\n",
       "      <th>Population (persons) 1/</th>\n",
       "      <th>num_restaurants</th>\n",
       "      <th>num_burger_restaurants</th>\n",
       "      <th>restaurant_density</th>\n",
       "      <th>burger_rest_density</th>\n",
       "      <th>num_coffee_houses</th>\n",
       "      <th>cafe_density</th>\n",
       "    </tr>\n",
       "  </thead>\n",
       "  <tbody>\n",
       "    <tr>\n",
       "      <th>0</th>\n",
       "      <td>AK</td>\n",
       "      <td>41899.7</td>\n",
       "      <td>57115.0</td>\n",
       "      <td>733603.0</td>\n",
       "      <td>64.0</td>\n",
       "      <td>14</td>\n",
       "      <td>0.000087</td>\n",
       "      <td>0.000019</td>\n",
       "      <td>5</td>\n",
       "      <td>0.000007</td>\n",
       "    </tr>\n",
       "    <tr>\n",
       "      <th>1</th>\n",
       "      <td>AL</td>\n",
       "      <td>196131.2</td>\n",
       "      <td>39962.0</td>\n",
       "      <td>4907965.0</td>\n",
       "      <td>635.0</td>\n",
       "      <td>221</td>\n",
       "      <td>0.000129</td>\n",
       "      <td>0.000045</td>\n",
       "      <td>38</td>\n",
       "      <td>0.000008</td>\n",
       "    </tr>\n",
       "    <tr>\n",
       "      <th>2</th>\n",
       "      <td>AR</td>\n",
       "      <td>122878.1</td>\n",
       "      <td>40675.0</td>\n",
       "      <td>3020985.0</td>\n",
       "      <td>124.0</td>\n",
       "      <td>49</td>\n",
       "      <td>0.000041</td>\n",
       "      <td>0.000016</td>\n",
       "      <td>5</td>\n",
       "      <td>0.000002</td>\n",
       "    </tr>\n",
       "    <tr>\n",
       "      <th>3</th>\n",
       "      <td>AZ</td>\n",
       "      <td>300174.7</td>\n",
       "      <td>41166.0</td>\n",
       "      <td>7291843.0</td>\n",
       "      <td>186.0</td>\n",
       "      <td>81</td>\n",
       "      <td>0.000026</td>\n",
       "      <td>0.000011</td>\n",
       "      <td>13</td>\n",
       "      <td>0.000002</td>\n",
       "    </tr>\n",
       "    <tr>\n",
       "      <th>4</th>\n",
       "      <td>CA</td>\n",
       "      <td>2172607.7</td>\n",
       "      <td>55090.0</td>\n",
       "      <td>39437610.0</td>\n",
       "      <td>727.0</td>\n",
       "      <td>237</td>\n",
       "      <td>0.000018</td>\n",
       "      <td>0.000006</td>\n",
       "      <td>78</td>\n",
       "      <td>0.000002</td>\n",
       "    </tr>\n",
       "  </tbody>\n",
       "</table>\n",
       "</div>"
      ],
      "text/plain": [
       "  Code  Disposable personal income (millions of dollars)  \\\n",
       "0   AK                                           41899.7   \n",
       "1   AL                                          196131.2   \n",
       "2   AR                                          122878.1   \n",
       "3   AZ                                          300174.7   \n",
       "4   CA                                         2172607.7   \n",
       "\n",
       "   Per capita disposable personal income (dollars) 2/  \\\n",
       "0                                             57115.0   \n",
       "1                                             39962.0   \n",
       "2                                             40675.0   \n",
       "3                                             41166.0   \n",
       "4                                             55090.0   \n",
       "\n",
       "   Population (persons) 1/  num_restaurants  num_burger_restaurants  \\\n",
       "0                 733603.0             64.0                      14   \n",
       "1                4907965.0            635.0                     221   \n",
       "2                3020985.0            124.0                      49   \n",
       "3                7291843.0            186.0                      81   \n",
       "4               39437610.0            727.0                     237   \n",
       "\n",
       "   restaurant_density  burger_rest_density  num_coffee_houses  cafe_density  \n",
       "0            0.000087             0.000019                  5      0.000007  \n",
       "1            0.000129             0.000045                 38      0.000008  \n",
       "2            0.000041             0.000016                  5      0.000002  \n",
       "3            0.000026             0.000011                 13      0.000002  \n",
       "4            0.000018             0.000006                 78      0.000002  "
      ]
     },
     "execution_count": 95,
     "metadata": {},
     "output_type": "execute_result"
    }
   ],
   "source": [
    "cafe = restaurants.loc[restaurants.categories.str.lower().str.contains(r'coffee|cafe')]\n",
    "cafe = cafe.groupby('province').size().reset_index()\n",
    "cafe.columns = ['Code', 'num_coffee_houses']\n",
    "df_new = pd.merge(df_main, cafe, on = 'Code')\n",
    "df_new['cafe_density'] = df_new['num_coffee_houses'] / df_new['Population (persons) 1/']\n",
    "df_new.head()\n",
    "\n"
   ]
  },
  {
   "cell_type": "markdown",
   "metadata": {},
   "source": [
    "## 4. Visualization\n",
    "\n",
    "Because we want to observe the strength correlation between two variables, a scatter plot is most sensible. Before I plot correlation between variables 'burger_desnity' and 'cafe_desnity' and then compare the correlation with income per capita, I will import a package that will make plots look more visually pleasing ."
   ]
  },
  {
   "cell_type": "code",
   "execution_count": 96,
   "metadata": {},
   "outputs": [],
   "source": [
    "import seaborn as sns\n"
   ]
  },
  {
   "cell_type": "code",
   "execution_count": 97,
   "metadata": {},
   "outputs": [
    {
     "data": {
      "text/plain": [
       "Text(0, 0.5, 'Disposable Income Per Capita')"
      ]
     },
     "execution_count": 97,
     "metadata": {},
     "output_type": "execute_result"
    },
    {
     "data": {
      "image/png": "[encoded data removed]",
      "text/plain": [
       "<Figure size 432x288 with 1 Axes>"
      ]
     },
     "metadata": {
      "needs_background": "light"
     },
     "output_type": "display_data"
    }
   ],
   "source": [
    "sns.regplot(data=df_new, x='burger_rest_density', y='Per capita disposable personal income (dollars) 2/')\n",
    "plt.title('Correlation of Disposable Income Per Capita and Burger Restauraunt Density')\n",
    "plt.xlabel('Burger Restauraunt Density')\n",
    "plt.ylabel('Disposable Income Per Capita')\n"
   ]
  },
  {
   "cell_type": "markdown",
   "metadata": {},
   "source": [
    "It is evident there is a relatively strong negative relationship between burger resturaunt density and personal income per capita as we observed previously."
   ]
  },
  {
   "cell_type": "code",
   "execution_count": 98,
   "metadata": {},
   "outputs": [
    {
     "data": {
      "text/plain": [
       "Text(0, 0.5, 'Disposable Income Per Capita')"
      ]
     },
     "execution_count": 98,
     "metadata": {},
     "output_type": "execute_result"
    },
    {
     "data": {
      "image/png": "[encoded data removed]",
      "text/plain": [
       "<Figure size 432x288 with 1 Axes>"
      ]
     },
     "metadata": {
      "needs_background": "light"
     },
     "output_type": "display_data"
    }
   ],
   "source": [
    "sns.regplot(data=df_new, x='cafe_density', y='Per capita disposable personal income (dollars) 2/')\n",
    "plt.title('Correlation of Disposable Income Per Capita and Cafe Density')\n",
    "plt.xlabel('Cafe Density')\n",
    "plt.ylabel('Disposable Income Per Capita')"
   ]
  },
  {
   "cell_type": "markdown",
   "metadata": {},
   "source": [
    "When analyzing the relationship between cafe density and disposable income per capita, the relationship is very weak. Intuitively, this makes sense. Because coffee is not an inferior good nor a luxury good, it has a very week relationship with disposable income per capita. The estimation of the strength of this relationship is represented by the line. It is evident that the line is almost horizontal, meaning the slope of this linear approzimation is close to zero, ultimately, representing the very weak relationship between both variables "
   ]
  },
  {
   "cell_type": "markdown",
   "metadata": {},
   "source": [
    "## 5. Mapping"
   ]
  },
  {
   "cell_type": "code",
   "execution_count": 107,
   "metadata": {},
   "outputs": [],
   "source": [
    "import geopandas as gpd\n",
    "from shapely.geometry import Point\n",
    "world = gpd.read_file(gpd.datasets.get_path(\"naturalearth_lowres\"))"
   ]
  },
  {
   "cell_type": "code",
   "execution_count": 125,
   "metadata": {},
   "outputs": [
    {
     "data": {
      "image/png": "[encoded data removed]",
      "text/plain": [
       "<Figure size 720x720 with 1 Axes>"
      ]
     },
     "metadata": {
      "needs_background": "light"
     },
     "output_type": "display_data"
    }
   ],
   "source": [
    "states = gpd.read_file(\"http://www2.census.gov/geo/tiger/GENZ2016/shp/cb_2016_us_state_5m.zip\")\n",
    "\n",
    "fig, gax = plt.subplots(figsize=(10, 10))\n",
    "states.query(\"NAME != 'Alaska'\").plot(ax=gax, edgecolor=\"black\", color=\"white\")\n",
    "plt.show()"
   ]
  },
  {
   "cell_type": "code",
   "execution_count": 122,
   "metadata": {},
   "outputs": [
    {
     "data": {
      "text/plain": [
       "<AxesSubplot:>"
      ]
     },
     "execution_count": 122,
     "metadata": {},
     "output_type": "execute_result"
    },
    {
     "data": {
      "image/png": "[encoded data removed]",
      "text/plain": [
       "<Figure size 432x288 with 1 Axes>"
      ]
     },
     "metadata": {
      "needs_background": "light"
     },
     "output_type": "display_data"
    }
   ],
   "source": [
    "states.plot()"
   ]
  },
  {
   "cell_type": "code",
   "execution_count": 111,
   "metadata": {},
   "outputs": [
    {
     "data": {
      "text/plain": [
       "<AxesSubplot:>"
      ]
     },
     "execution_count": 111,
     "metadata": {},
     "output_type": "execute_result"
    },
    {
     "data": {
      "image/png": "[encoded data removed]",
      "text/plain": [
       "<Figure size 864x864 with 1 Axes>"
      ]
     },
     "metadata": {
      "needs_background": "light"
     },
     "output_type": "display_data"
    }
   ],
   "source": [
    "states.plot(cmap='magma', figsize=(12, 12))"
   ]
  },
  {
   "cell_type": "code",
   "execution_count": 115,
   "metadata": {},
   "outputs": [
    {
     "data": {
      "text/plain": [
       "<AxesSubplot:>"
      ]
     },
     "execution_count": 115,
     "metadata": {},
     "output_type": "execute_result"
    },
    {
     "data": {
      "image/png": "[encoded data removed]",
      "text/plain": [
       "<Figure size 432x288 with 2 Axes>"
      ]
     },
     "metadata": {
      "needs_background": "light"
     },
     "output_type": "display_data"
    }
   ],
   "source": [
    "from mpl_toolkits.axes_grid1 import make_axes_locatable\n",
    "fig, ax = plt.subplots(1, 1)\n",
    "divider = make_axes_locatable(ax)\n",
    "cax = divider.append_axes(\"right\", size=\"5%\", pad=0.1)\n",
    "states.plot(ax=ax, cax=cax)\n",
    "#adm_gdf.plot(column='pop_est', ax=ax, legend=True, cax=cax)"
   ]
  },
  {
   "cell_type": "code",
   "execution_count": 119,
   "metadata": {},
   "outputs": [
    {
     "data": {
      "text/plain": [
       "<AxesSubplot:>"
      ]
     },
     "execution_count": 119,
     "metadata": {},
     "output_type": "execute_result"
    },
    {
     "data": {
      "image/png": "[encoded data removed]",
      "text/plain": [
       "<Figure size 720x720 with 1 Axes>"
      ]
     },
     "metadata": {
      "needs_background": "light"
     },
     "output_type": "display_data"
    }
   ],
   "source": [
    "fig, gax = plt.subplots(figsize=(10,10))\n",
    "\n",
    "world.query(\"name == 'United States of America'\").plot(ax=gax, edgecolor='black',color='white')"
   ]
  },
  {
   "cell_type": "code",
   "execution_count": 129,
   "metadata": {},
   "outputs": [
    {
     "data": {
      "text/plain": [
       "47"
      ]
     },
     "execution_count": 129,
     "metadata": {},
     "output_type": "execute_result"
    }
   ],
   "source": [
    "restaurants.province.nunique()"
   ]
  }
 ],
 "metadata": {
  "interpreter": {
   "hash": "8513059932a8bd1ad8a3c5f750c21cbe38a56969a47e4fef783a7db6c63e2b27"
  },
  "kernelspec": {
   "display_name": "Python 3.9.7 64-bit ('base': conda)",
   "language": "python",
   "name": "python3"
  },
  "language_info": {
   "codemirror_mode": {
    "name": "ipython",
    "version": 3
   },
   "file_extension": ".py",
   "mimetype": "text/x-python",
   "name": "python",
   "nbconvert_exporter": "python",
   "pygments_lexer": "ipython3",
   "version": "3.9.7"
  },
  "orig_nbformat": 4
 },
 "nbformat": 4,
 "nbformat_minor": 2
}
